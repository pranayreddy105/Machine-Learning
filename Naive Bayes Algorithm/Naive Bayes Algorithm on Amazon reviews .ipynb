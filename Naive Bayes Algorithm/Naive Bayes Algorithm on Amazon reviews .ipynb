{
 "cells": [
  {
   "cell_type": "markdown",
   "metadata": {},
   "source": [
    "### DataSet : Amazon Fine Food Reviews \n",
    "\n",
    "Data Source: https://www.kaggle.com/snap/amazon-fine-food-reviews\n",
    "\n",
    "The Amazon Fine Food Reviews dataset consists of reviews of fine foods from Amazon.<br>\n",
    "\n",
    "Number of reviews: 568,454<br>\n",
    "Number of users: 256,059<br>\n",
    "Number of products: 74,258<br>\n",
    "Timespan: Oct 1999 - Oct 2012<br>\n",
    "Number of Attributes/Columns in data: 10 \n",
    "\n",
    "Attribute Information:\n",
    "\n",
    "1. Id\n",
    "2. ProductId - unique identifier for the product\n",
    "3. UserId - unqiue identifier for the user\n",
    "4. ProfileName\n",
    "5. HelpfulnessNumerator - number of users who found the review helpful\n",
    "6. HelpfulnessDenominator - number of users who indicated whether they found the review helpful or not\n",
    "7. Score - rating between 1 and 5\n",
    "8. Time - timestamp for the review\n",
    "9. Summary - brief summary of the review\n",
    "10. Text - text of the review\n",
    "\n",
    "\n",
    "#### Objective:\n",
    "Given a review, determine whether the review is positive (Rating of 4 or 5) or negative (rating of 1 or 2).\n",
    "\n",
    "[Q]How to determine if a review is positive or negative?<br>\n",
    "<br> \n",
    "[Ans] We could use the Score/Rating. A rating of 4 or 5 could be cosnidered a positive review. A review of 1 or 2 could be considered negative. A review of 3 is nuetral and ignored. This is an approximate and proxy way of determining the polarity (positivity/negativity) of a review.\n",
    "<br>\n",
    "\n",
    "* The dataset is available in two forms\n",
    "   1. csv file\n",
    "   2.SQLite Database\n",
    "    \n",
    "* We can use any one of the form to load data"
   ]
  },
  {
   "cell_type": "code",
   "execution_count": 1,
   "metadata": {},
   "outputs": [],
   "source": [
    "# importing required modules for data processing, data manipulation\n",
    "import numpy as np\n",
    "import pandas as pd\n",
    "import matplotlib.pyplot as plt\n",
    "import seaborn as sns"
   ]
  },
  {
   "cell_type": "code",
   "execution_count": 2,
   "metadata": {},
   "outputs": [
    {
     "name": "stdout",
     "output_type": "stream",
     "text": [
      "Shape of Data:\t (568454, 10)\n"
     ]
    },
    {
     "data": {
      "text/plain": [
       "5    363122\n",
       "4     80655\n",
       "1     52268\n",
       "3     42640\n",
       "2     29769\n",
       "Name: Score, dtype: int64"
      ]
     },
     "execution_count": 2,
     "metadata": {},
     "output_type": "execute_result"
    }
   ],
   "source": [
    "# load data using pandas\n",
    "initial_data = pd.read_csv('Reviews.csv')\n",
    "print(\"Shape of Data:\\t\",initial_data.shape)  # print dimensions of data i.e number of rows and columns \n",
    "\n",
    "initial_data['Score'].value_counts()"
   ]
  },
  {
   "cell_type": "code",
   "execution_count": 3,
   "metadata": {},
   "outputs": [
    {
     "name": "stdout",
     "output_type": "stream",
     "text": [
      "Shape of Data after filtering which has score equal to 3:  (525814, 10)\n"
     ]
    },
    {
     "data": {
      "text/plain": [
       "(525814, 10)"
      ]
     },
     "execution_count": 3,
     "metadata": {},
     "output_type": "execute_result"
    }
   ],
   "source": [
    "# Filter out data points which Score equal to 3 because they are neither +ve or -ve\n",
    "initial_data = initial_data[initial_data['Score'] != 3]\n",
    "print(\"Shape of Data after filtering which has score equal to 3: \",initial_data.shape)  # print dimensions of data \n",
    "\n",
    "# convert type of Score features to string 1) if 1<=Score<= 2 then 0 2) if 4<=Score<=5 then 1\n",
    "'''\n",
    "    1 indicates it is postive review\n",
    "    0 indicates it is negative review\n",
    "'''\n",
    "def convert(value):\n",
    "    if value >= 4:\n",
    "        return 1\n",
    "    return 0\n",
    "\n",
    "actual_data = initial_data.Score\n",
    "converted_data = actual_data.map(convert)\n",
    "initial_data['Score'] = converted_data\n",
    "\n",
    "initial_data.shape"
   ]
  },
  {
   "cell_type": "markdown",
   "metadata": {},
   "source": [
    "##### Data Cleaning: Deduplication\n",
    "\n",
    "We need remove if there are any duplicate entries in order to get unbiased results for the analysis of the data."
   ]
  },
  {
   "cell_type": "code",
   "execution_count": 4,
   "metadata": {},
   "outputs": [
    {
     "name": "stdout",
     "output_type": "stream",
     "text": [
      "(364173, 10)\n",
      "(364171, 10)\n"
     ]
    },
    {
     "data": {
      "text/plain": [
       "1    307061\n",
       "0     57110\n",
       "Name: Score, dtype: int64"
      ]
     },
     "execution_count": 4,
     "metadata": {},
     "output_type": "execute_result"
    }
   ],
   "source": [
    "# Sorting data according to ProductId in ascending order\n",
    "sorted_data=initial_data.sort_values('ProductId', axis=0, ascending=True, inplace=False, kind='quicksort', na_position='last')\n",
    "\n",
    "# Deduplication of entries\n",
    "staging_data = sorted_data.drop_duplicates(subset={\"UserId\",\"ProfileName\",\"Time\",\"Text\"}, keep='first', inplace=False)\n",
    "print(staging_data.shape)\n",
    "\n",
    "staging_data=staging_data[staging_data.HelpfulnessNumerator<=staging_data.HelpfulnessDenominator]\n",
    "print(staging_data.shape)\n",
    "\n",
    "# How many positive and negative reviews are present in our dataset?\n",
    "staging_data['Score'].value_counts()"
   ]
  },
  {
   "cell_type": "code",
   "execution_count": 5,
   "metadata": {},
   "outputs": [],
   "source": [
    "# sort the data according to time\n",
    "staging_data=staging_data.sort_values('Time', axis=0, ascending=True, inplace=False, kind='quicksort', na_position='last')"
   ]
  },
  {
   "cell_type": "markdown",
   "metadata": {},
   "source": [
    "#### Text Preprocessing: Stemming, stop-word removal and Lemmatization.\n",
    "\n",
    "Data requires some preprocessing before we go on further with analysis and making the prediction model.\n",
    "\n",
    "Hence in the Preprocessing phase we do the following in the order below:-\n",
    "\n",
    "1. Begin by removing the html tags\n",
    "2. Remove any punctuations or limited set of special characters like , or . or # etc.\n",
    "3. Check if the word is made up of english letters and is not alpha-numeric\n",
    "4. Check to see if the length of the word is greater than 2 (as it was researched that there is no adjective in 2-letters)\n",
    "5. Convert the word to lowercase\n",
    "6. Remove Stopwords\n",
    "7. Finally Snowball Stemming the word (it was obsereved to be better than Porter Stemming)<br>\n",
    "\n",
    "After which we collect the words used to describe positive and negative reviews"
   ]
  },
  {
   "cell_type": "code",
   "execution_count": 6,
   "metadata": {},
   "outputs": [],
   "source": [
    "# import required modules\n",
    "import re   # regular expression module used for pattern matching \n",
    "import string\n",
    "import nltk  # natural language processing tool kit for text processing\n",
    "from nltk.corpus import stopwords \n",
    "from nltk.stem import PorterStemmer\n",
    "from nltk.stem.wordnet import WordNetLemmatizer\n",
    "\n",
    "stop = set(stopwords.words('english')) # set of stopwords\n",
    "sno = nltk.stem.SnowballStemmer('english') # initialising the snowball stemmer\n",
    "\n",
    "# function to clean the word of any html-tags\n",
    "def cleanhtml(sentence): \n",
    "    cleanr = re.compile('<.*?>')\n",
    "    cleantext = re.sub(cleanr, ' ', sentence)\n",
    "    return cleantext\n",
    "\n",
    "# function to clean the word of any punctuation or special characters\n",
    "def cleanpunc(sentence): \n",
    "    cleaned = re.sub(r'[?|!|\\'|\"|#]',r'',sentence)\n",
    "    cleaned = re.sub(r'[.|,|)|(|\\|/]',r' ',cleaned)\n",
    "    return  cleaned\n",
    "\n",
    "# Code for implementing step-by-step the checks mentioned in the pre-processing phase\n",
    "str1=' '\n",
    "preprocessed_string=[]\n",
    "for sent in staging_data['Text'].values:\n",
    "    filtered_sentence=[]\n",
    "    sent=cleanhtml(sent)    # remove HTMl tags\n",
    "    for w in sent.split():\n",
    "        for cleaned_words in cleanpunc(w).split():\n",
    "            if((cleaned_words.isalpha()) & (len(cleaned_words)>2)):    \n",
    "                if(cleaned_words.lower() not in stop):\n",
    "                    s=(sno.stem(cleaned_words.lower())).encode('utf8')\n",
    "                    filtered_sentence.append(s)\n",
    "                else:\n",
    "                    continue\n",
    "            else:\n",
    "                continue \n",
    "    str1 = b\" \".join(filtered_sentence) # final string of cleaned words\n",
    "    preprocessed_string.append(str1)"
   ]
  },
  {
   "cell_type": "code",
   "execution_count": 7,
   "metadata": {},
   "outputs": [
    {
     "data": {
      "text/html": [
       "<div>\n",
       "<style scoped>\n",
       "    .dataframe tbody tr th:only-of-type {\n",
       "        vertical-align: middle;\n",
       "    }\n",
       "\n",
       "    .dataframe tbody tr th {\n",
       "        vertical-align: top;\n",
       "    }\n",
       "\n",
       "    .dataframe thead th {\n",
       "        text-align: right;\n",
       "    }\n",
       "</style>\n",
       "<table border=\"1\" class=\"dataframe\">\n",
       "  <thead>\n",
       "    <tr style=\"text-align: right;\">\n",
       "      <th></th>\n",
       "      <th>Text</th>\n",
       "      <th>CleanedText</th>\n",
       "    </tr>\n",
       "  </thead>\n",
       "  <tbody>\n",
       "    <tr>\n",
       "      <th>150523</th>\n",
       "      <td>this witty little book makes my son laugh at l...</td>\n",
       "      <td>b'witti littl book make son laugh loud recit c...</td>\n",
       "    </tr>\n",
       "    <tr>\n",
       "      <th>150500</th>\n",
       "      <td>I can remember seeing the show when it aired o...</td>\n",
       "      <td>b'rememb see show air televis year ago child s...</td>\n",
       "    </tr>\n",
       "    <tr>\n",
       "      <th>451855</th>\n",
       "      <td>Beetlejuice is a well written movie ..... ever...</td>\n",
       "      <td>b'beetlejuic well written movi everyth excel a...</td>\n",
       "    </tr>\n",
       "    <tr>\n",
       "      <th>374358</th>\n",
       "      <td>A twist of rumplestiskin captured on film, sta...</td>\n",
       "      <td>b'twist rumplestiskin captur film star michael...</td>\n",
       "    </tr>\n",
       "    <tr>\n",
       "      <th>451854</th>\n",
       "      <td>Beetlejuice is an excellent and funny movie. K...</td>\n",
       "      <td>b'beetlejuic excel funni movi keaton hilari wa...</td>\n",
       "    </tr>\n",
       "  </tbody>\n",
       "</table>\n",
       "</div>"
      ],
      "text/plain": [
       "                                                     Text  \\\n",
       "150523  this witty little book makes my son laugh at l...   \n",
       "150500  I can remember seeing the show when it aired o...   \n",
       "451855  Beetlejuice is a well written movie ..... ever...   \n",
       "374358  A twist of rumplestiskin captured on film, sta...   \n",
       "451854  Beetlejuice is an excellent and funny movie. K...   \n",
       "\n",
       "                                              CleanedText  \n",
       "150523  b'witti littl book make son laugh loud recit c...  \n",
       "150500  b'rememb see show air televis year ago child s...  \n",
       "451855  b'beetlejuic well written movi everyth excel a...  \n",
       "374358  b'twist rumplestiskin captur film star michael...  \n",
       "451854  b'beetlejuic excel funni movi keaton hilari wa...  "
      ]
     },
     "execution_count": 7,
     "metadata": {},
     "output_type": "execute_result"
    }
   ],
   "source": [
    "# Adding a column of CleanedText which displays the data after pre-processing of the review \n",
    "staging_data['CleanedText'] = preprocessed_string \n",
    "\n",
    "# To verify first few rows\n",
    "staging_data[['Text','CleanedText']].head()"
   ]
  },
  {
   "cell_type": "markdown",
   "metadata": {},
   "source": [
    "###### Machine Learning is all about math. For any Machine Learning model to work, we have to convert features which is having text to something(Vector) that an algorithm can use.\n",
    "\n",
    "* There are lot of methods available to convert to text to vector. \n",
    "        1) Bag of words\n",
    "        2) TF-IDF (term frequency–inverse document frequency)\n",
    "        \n",
    "* For Naive Bayes, we can't use avg word2vec and tf-idf w2v because in these words are interrelated where naive bayes assumes      features are independent(Conditional Independence)\n"
   ]
  },
  {
   "cell_type": "markdown",
   "metadata": {},
   "source": [
    "##### Bag of words approach\n",
    "\n",
    "We have class called CountVectorizer in scikit. Following is the syntax of constructor\n",
    "\n",
    "class sklearn.feature_extraction.text.CountVectorizer(input=’content’, encoding=’utf-8’, decode_error=’strict’, strip_accents=None, lowercase=True, preprocessor=None, tokenizer=None, stop_words=None, token_pattern=’(?u)\\b\\w\\w+\\b’, ngram_range=(1, 1), analyzer=’word’, max_df=1.0, min_df=1, max_features=None, vocabulary=None, binary=False, dtype=class ‘numpy.int64’ )\n",
    "\n",
    "http://scikit-learn.org/stable/modules/generated/sklearn.feature_extraction.text.CountVectorizer.html#sklearn.feature_extraction.text.CountVectorizer"
   ]
  },
  {
   "cell_type": "code",
   "execution_count": 8,
   "metadata": {},
   "outputs": [
    {
     "name": "stdout",
     "output_type": "stream",
     "text": [
      "<class 'scipy.sparse.csr.csr_matrix'>\n",
      "(364171, 71624)\n",
      "<class 'list'>\n"
     ]
    },
    {
     "data": {
      "text/plain": [
       "['acquarium', 'acquerello', 'acquies', 'acquiesc', 'acquint']"
      ]
     },
     "execution_count": 8,
     "metadata": {},
     "output_type": "execute_result"
    }
   ],
   "source": [
    "# import required module\n",
    "from sklearn.feature_extraction.text import CountVectorizer\n",
    "\n",
    "countVec_model = CountVectorizer(binary=True)\n",
    "finalCounts = countVec_model.fit_transform(staging_data['CleanedText'].values)\n",
    "\n",
    "print(type(finalCounts))\n",
    "print(finalCounts.get_shape())\n",
    "\n",
    "features = countVec_model.get_feature_names()\n",
    "print(type(features))\n",
    "features[500:505]"
   ]
  },
  {
   "cell_type": "code",
   "execution_count": 9,
   "metadata": {},
   "outputs": [],
   "source": [
    "dataset = finalCounts\n",
    "labels = staging_data['Score']"
   ]
  },
  {
   "cell_type": "code",
   "execution_count": 11,
   "metadata": {},
   "outputs": [
    {
     "name": "stdout",
     "output_type": "stream",
     "text": [
      "Shape of dataset and lables :  ((364171, 71624), (364171,))\n",
      "Shape of X and y:   ((254919, 71624), (254919,))\n",
      "Shape of X and y:   ((109252, 71624), (109252,))\n",
      "Type of X_train and y_train :  (<class 'scipy.sparse.csr.csr_matrix'>, <class 'pandas.core.series.Series'>)\n"
     ]
    }
   ],
   "source": [
    "# split the data set into train and test\n",
    "from sklearn import cross_validation\n",
    "X_train, X_test, y_train, y_test = cross_validation.train_test_split(dataset, labels, test_size=0.3, random_state=0)\n",
    "\n",
    "print(\"Shape of dataset and lables : \",(dataset.shape,labels.shape))\n",
    "\n",
    "print(\"Shape of X and y:  \",(X_train.shape,y_train.shape))\n",
    "\n",
    "print(\"Shape of X and y:  \",(X_test.shape,y_test.shape))\n",
    "\n",
    "print(\"Type of X_train and y_train : \",(type(X_train),type(y_train)))"
   ]
  },
  {
   "cell_type": "code",
   "execution_count": 45,
   "metadata": {},
   "outputs": [
    {
     "name": "stdout",
     "output_type": "stream",
     "text": [
      "\n",
      "The optimal alpha value is : 1\n",
      "The misclassification error for each alpha value is :  [0.12 0.12 0.13 0.13 0.14 0.14 0.15 0.15 0.15 0.15]\n"
     ]
    }
   ],
   "source": [
    "from sklearn.naive_bayes import BernoulliNB\n",
    "import matplotlib.pyplot as plt\n",
    "from sklearn.cross_validation import cross_val_score\n",
    "\n",
    "# create a set of alpha values\n",
    "alpha_values = list(range(1,11))\n",
    "\n",
    "# list that will hold cv scores\n",
    "cv_scores = []\n",
    "\n",
    "# perform 10-fold cross validation\n",
    "for a in alpha_values:\n",
    "    nb = BernoulliNB(alpha = a)\n",
    "    scores = cross_val_score(nb, X_train, y_train, cv=10, scoring='accuracy')\n",
    "    cv_scores.append(scores.mean())\n",
    "\n",
    "# changing to misclassification error\n",
    "MSE = [1 - x for x in cv_scores]\n",
    "\n",
    "# determining best alpha\n",
    "optimal_alpha = alpha_values[MSE.index(min(MSE))]\n",
    "print('\\nThe optimal alpha value is : %d' % optimal_alpha)\n",
    "\n",
    "\n",
    "print(\"The misclassification error for each alpha value is : \", np.round(MSE,3))"
   ]
  },
  {
   "cell_type": "code",
   "execution_count": 46,
   "metadata": {},
   "outputs": [
    {
     "data": {
      "image/png": "[encoded data removed]",
      "text/plain": [
       "<matplotlib.figure.Figure at 0x479cbca6d8>"
      ]
     },
     "metadata": {},
     "output_type": "display_data"
    }
   ],
   "source": [
    "plt.plot(alpha_values,MSE,marker=\".\",color=\"orange\")  # first list is for x axis and second list is for y axis\n",
    "plt.ylabel(\"Misclassification Error\")\n",
    "plt.xlabel(\"alpha values\")\n",
    "plt.grid()\n",
    "plt.show()"
   ]
  },
  {
   "cell_type": "code",
   "execution_count": 47,
   "metadata": {},
   "outputs": [
    {
     "name": "stdout",
     "output_type": "stream",
     "text": [
      "\n",
      "The accuracy of the NB classifier for k = 1 is 88.368176%\n"
     ]
    }
   ],
   "source": [
    "from sklearn.metrics import accuracy_score\n",
    "# instantiate learning model k = optimal_k\n",
    "nb_optimal = BernoulliNB(alpha = optimal_alpha)\n",
    "\n",
    "# fitting the model\n",
    "nb_optimal.fit(X_train, y_train)\n",
    "\n",
    "# predict the response\n",
    "pred = nb_optimal.predict(X_test)\n",
    "\n",
    "# evaluate accuracy\n",
    "acc = accuracy_score(y_test, pred) * 100\n",
    "\n",
    "print('\\nThe accuracy of the NB classifier for k = %d is %f%%' % (optimal_alpha, acc))"
   ]
  },
  {
   "cell_type": "markdown",
   "metadata": {},
   "source": [
    "#### Conclusion :  Accuaracy of Naive Bayes Classifier using Bag of words with hyper parameter alpha = 1 is 88.368176 %"
   ]
  },
  {
   "cell_type": "code",
   "execution_count": 48,
   "metadata": {},
   "outputs": [
    {
     "name": "stdout",
     "output_type": "stream",
     "text": [
      "Actual Values:  Counter({1: 92039, 0: 17213})\n",
      "Predicted Values:  Counter({1: 93681, 0: 15571})\n"
     ]
    }
   ],
   "source": [
    "import collections\n",
    "print(\"Actual Values: \",collections.Counter(y_test))\n",
    "print(\"Predicted Values: \",collections.Counter(pred))"
   ]
  },
  {
   "cell_type": "code",
   "execution_count": 49,
   "metadata": {},
   "outputs": [
    {
     "data": {
      "image/png": "[encoded data removed]",
      "text/plain": [
       "<matplotlib.figure.Figure at 0x47dcf96860>"
      ]
     },
     "metadata": {},
     "output_type": "display_data"
    }
   ],
   "source": [
    "from sklearn.metrics import confusion_matrix\n",
    "import itertools\n",
    "\n",
    "def plot_confusion_matrix(cm, classes,cmap=plt.cm.Blues):\n",
    "   \n",
    "    plt.imshow(cm, interpolation='nearest', cmap=cmap)\n",
    "    plt.title('Confusion matrix')\n",
    "    plt.colorbar()\n",
    "    tick_marks = np.arange(len(classes))\n",
    "    plt.xticks(tick_marks, classes, rotation=45)\n",
    "    plt.yticks(tick_marks, classes)\n",
    "\n",
    "    fmt = 'd'\n",
    "    thresh = cm.max() / 2.\n",
    "    for i, j in itertools.product(range(cm.shape[0]), range(cm.shape[1])):\n",
    "        plt.text(j, i, format(cm[i, j], fmt),\n",
    "                 horizontalalignment=\"center\",\n",
    "                 color=\"white\" if cm[i, j] > thresh else \"black\")\n",
    "\n",
    "    plt.tight_layout()\n",
    "    plt.ylabel('True label')\n",
    "    plt.xlabel('Predicted label')\n",
    "\n",
    "# Compute confusion matrix\n",
    "labels = [0, 1]\n",
    "confusion_matrix_values = confusion_matrix(y_test, pred,labels = labels)\n",
    "\n",
    "np.set_printoptions(precision=2)\n",
    "\n",
    "# Plot confusion matrix\n",
    "plt.figure()\n",
    "plot_confusion_matrix(confusion_matrix_values, classes = labels)\n",
    "\n"
   ]
  },
  {
   "cell_type": "code",
   "execution_count": 50,
   "metadata": {},
   "outputs": [
    {
     "name": "stdout",
     "output_type": "stream",
     "text": [
      "True Negative(tn) :  10038\n",
      "False Positive(fp):  7175\n",
      "False Negative(fn) :  5533\n",
      "True Positive(tp) :  86506\n",
      "True Positive Rate :  0.9398841795325894\n",
      "True Negative Rate :  0.5831638877592518\n",
      "False Positive Rate :  0.4168361122407483\n",
      "False Negative Rate :  0.060115820467410555\n"
     ]
    }
   ],
   "source": [
    "tn, fp, fn, tp = confusion_matrix_values.ravel()\n",
    "print('True Negative(tn) : ',tn)\n",
    "print('False Positive(fp): ',fp)\n",
    "print('False Negative(fn) : ',fn)\n",
    "print('True Positive(tp) : ',tp)\n",
    "\n",
    "# Print the TPR , TNR, FPR, FNR\n",
    "TPR = tp/(tp+fn)\n",
    "print('True Positive Rate : ',TPR)\n",
    "TNR = tn/(tn+fp)\n",
    "print('True Negative Rate : ',TNR)\n",
    "FPR = fp/(tn+fp)\n",
    "print('False Positive Rate : ',FPR)\n",
    "FNR = fn/(tp+fn)\n",
    "print('False Negative Rate : ',FNR)"
   ]
  },
  {
   "cell_type": "markdown",
   "metadata": {},
   "source": [
    "##### Observations:\n",
    "\n",
    "* Out of 92,039 postive reviews,classifier predicted 86506 positive reviews correctly.\n",
    "* Out of 17213 negative reviews,classifier predicted 10038 negative reviews correctly.\n",
    "* classifier predicted 5533 reviews as negative, but actually they are positive reviews.\n",
    "* classifier predicted 7175 reviews as positive, but actually they are negative reviews.\n"
   ]
  },
  {
   "cell_type": "markdown",
   "metadata": {},
   "source": [
    "#### Feature Importance "
   ]
  },
  {
   "cell_type": "code",
   "execution_count": 51,
   "metadata": {},
   "outputs": [
    {
     "name": "stdout",
     "output_type": "stream",
     "text": [
      "[    0 42443 42445 ... 49522 35959 62026]\n",
      "[35811 18182 18180 ... 36800 62026 35959]\n",
      "Top negative words \n",
      " ['aa' 'niaspan' 'nibbi' 'nibbley' 'nibblin' 'niblet' 'nic' 'nicarauguan'\n",
      " 'nicc' 'niceah']\n",
      "Top positive words \n",
      " ['lici' 'dogfoodadvis' 'dogfish' 'dogfind' 'dogadan' 'premiss' 'premius'\n",
      " 'premonit' 'preoocupi' 'premeium']\n"
     ]
    }
   ],
   "source": [
    "neg_class_prob_sorted = nb_optimal.feature_log_prob_[0, :].argsort()\n",
    "pos_class_prob_sorted = nb_optimal.feature_log_prob_[1, :].argsort()\n",
    "print(neg_class_prob_sorted)\n",
    "print(pos_class_prob_sorted)\n",
    "print('Top negative words \\n',np.take(countVec_model.get_feature_names(), neg_class_prob_sorted[:10]))\n",
    "print('Top positive words \\n',np.take(countVec_model.get_feature_names(), pos_class_prob_sorted[:10]))"
   ]
  },
  {
   "cell_type": "markdown",
   "metadata": {},
   "source": [
    "#### Precision_Score, Recall_Score and f1_score"
   ]
  },
  {
   "cell_type": "code",
   "execution_count": 52,
   "metadata": {},
   "outputs": [
    {
     "name": "stdout",
     "output_type": "stream",
     "text": [
      "precision_score:  0.9234102966449974\n",
      "recall_score:  0.9398841795325894\n",
      "fl_score:  0.9315744130949816\n"
     ]
    }
   ],
   "source": [
    "from sklearn.metrics import precision_score\n",
    "from sklearn.metrics import recall_score\n",
    "from sklearn.metrics import f1_score\n",
    "print('precision_score: ',precision_score(y_test, pred,pos_label=1))\n",
    "print('recall_score: ',recall_score(y_test, pred,pos_label=1))\n",
    "f1 = f1_score(y_test, pred,pos_label=1)\n",
    "print(\"fl_score: \",f1)\n"
   ]
  },
  {
   "cell_type": "markdown",
   "metadata": {},
   "source": [
    "#### Observations:\n",
    "* We can see that, we have got high precision score, that means, our classifier predicted one few of positive reviews as negative.\n",
    "* Also we have got the high recall score, out classifier predicted most the reviews are positive which are positive in actual.\n",
    "* As precision and recall score is high , f1_score will also high because it harmonic mean of both.\n"
   ]
  },
  {
   "cell_type": "markdown",
   "metadata": {},
   "source": [
    "#### TF-IDF (term frequency–inverse document frequency):"
   ]
  },
  {
   "cell_type": "code",
   "execution_count": 23,
   "metadata": {},
   "outputs": [
    {
     "name": "stdout",
     "output_type": "stream",
     "text": [
      "Type of vectors:  <class 'scipy.sparse.csr.csr_matrix'>\n",
      "Shape :  (364171, 2923725)\n",
      "\n",
      " ['aa', 'aa pleas', 'aa state', 'aaa', 'aaa aaa', 'aaa class', 'aaa condit', 'aaa dont', 'aaa hockey', 'aaa job', 'aaa magazin', 'aaa perfect', 'aaa plus', 'aaa rate', 'aaa spelt', 'aaa tue', 'aaaa', 'aaaaa', 'aaaaa kid', 'aaaaa start']\n"
     ]
    }
   ],
   "source": [
    "# import required modules\n",
    "from sklearn.feature_extraction.text import TfidfTransformer\n",
    "from sklearn.feature_extraction.text import TfidfVectorizer\n",
    "\n",
    "tf_idf_vect = TfidfVectorizer(ngram_range=(1,2))\n",
    "vectors_tf_idf = tf_idf_vect.fit_transform(staging_data['CleanedText'].values)\n",
    "\n",
    "print(\"Type of vectors: \",type(vectors_tf_idf))\n",
    "print(\"Shape : \",vectors_tf_idf.get_shape())\n",
    "\n",
    "features = tf_idf_vect.get_feature_names()\n",
    "print(\"\\n\",features[:20]) # get first 20 features\n",
    "\n",
    "\n",
    "labels = staging_data['Score']\n",
    "dataset = vectors_tf_idf   # Actual data"
   ]
  },
  {
   "cell_type": "code",
   "execution_count": 24,
   "metadata": {},
   "outputs": [
    {
     "name": "stdout",
     "output_type": "stream",
     "text": [
      "Shape of dataset and lables :  ((364171, 2923725), (364171,))\n",
      "Shape of X and y:   ((254919, 2923725), (254919,))\n",
      "Shape of X and y:   ((109252, 2923725), (109252,))\n",
      "Type of X_train and y_train :  (<class 'scipy.sparse.csr.csr_matrix'>, <class 'pandas.core.series.Series'>)\n"
     ]
    }
   ],
   "source": [
    "# split data into train and test data set\n",
    "\n",
    "X_train,X_test,y_train,y_test = cross_validation.train_test_split(dataset,labels,test_size = 0.3,random_state = 0)\n",
    "\n",
    "print(\"Shape of dataset and lables : \",(dataset.shape,labels.shape))\n",
    "\n",
    "print(\"Shape of X and y:  \",(X_train.shape,y_train.shape))\n",
    "\n",
    "print(\"Shape of X and y:  \",(X_test.shape,y_test.shape))\n",
    "\n",
    "print(\"Type of X_train and y_train : \",(type(X_train),type(y_train)))"
   ]
  },
  {
   "cell_type": "code",
   "execution_count": 26,
   "metadata": {},
   "outputs": [
    {
     "name": "stdout",
     "output_type": "stream",
     "text": [
      "\n",
      "The optimal alpha value is : 10\n",
      "The misclassification error for each alpha value is :  [0.16 0.16 0.16 0.16 0.16 0.16 0.16 0.16 0.16 0.16]\n"
     ]
    }
   ],
   "source": [
    "from sklearn.naive_bayes import BernoulliNB\n",
    "import matplotlib.pyplot as plt\n",
    "from sklearn.cross_validation import cross_val_score\n",
    "\n",
    "# create a set of alpha values\n",
    "alpha_values = list(range(1,11))\n",
    "\n",
    "# list that will hold cv scores\n",
    "cv_scores = []\n",
    "\n",
    "# perform 10-fold cross validation\n",
    "for a in alpha_values:\n",
    "    nb = BernoulliNB(alpha = a)\n",
    "    scores = cross_val_score(nb, X_train, y_train, cv=10, scoring='accuracy')\n",
    "    cv_scores.append(scores.mean())\n",
    "\n",
    "# changing to misclassification error\n",
    "MSE = [1 - x for x in cv_scores]\n",
    "\n",
    "# determining best alpha\n",
    "optimal_alpha = alpha_values[MSE.index(min(MSE))]\n",
    "print('\\nThe optimal alpha value is : %d' % optimal_alpha)\n",
    "\n",
    "\n",
    "print(\"The misclassification error for each alpha value is : \", np.round(MSE,3))"
   ]
  },
  {
   "cell_type": "code",
   "execution_count": 27,
   "metadata": {},
   "outputs": [
    {
     "data": {
      "image/png": "[encoded data removed]",
      "text/plain": [
       "<matplotlib.figure.Figure at 0x47e1271160>"
      ]
     },
     "metadata": {},
     "output_type": "display_data"
    }
   ],
   "source": [
    "plt.plot(alpha_values,MSE,marker=\".\",color=\"orange\")  # first list is for x axis and second list is for y axis\n",
    "plt.ylabel(\"Misclassification Error\")\n",
    "plt.xlabel(\"alpha values\")\n",
    "plt.grid()\n",
    "plt.show()"
   ]
  },
  {
   "cell_type": "code",
   "execution_count": 28,
   "metadata": {},
   "outputs": [
    {
     "name": "stdout",
     "output_type": "stream",
     "text": [
      "\n",
      "The accuracy of the NB classifier for k = 10 is 84.228206%\n"
     ]
    }
   ],
   "source": [
    "from sklearn.metrics import accuracy_score\n",
    "# instantiate learning model k = optimal_k\n",
    "nb_optimal = BernoulliNB(alpha = optimal_alpha)\n",
    "\n",
    "# fitting the model\n",
    "nb_optimal.fit(X_train, y_train)\n",
    "\n",
    "# predict the response\n",
    "pred = nb_optimal.predict(X_test)\n",
    "\n",
    "# evaluate accuracy\n",
    "acc = accuracy_score(y_test, pred) * 100\n",
    "\n",
    "print('\\nThe accuracy of the NB classifier for k = %d is %f%%' % (optimal_alpha, acc))"
   ]
  },
  {
   "cell_type": "markdown",
   "metadata": {},
   "source": [
    "#### Conclusion :  Accuaracy of Naive Bayes Classifier using tf-idf with hyper parameter alpha = 10 is 84.228206 %"
   ]
  },
  {
   "cell_type": "code",
   "execution_count": 29,
   "metadata": {},
   "outputs": [
    {
     "name": "stdout",
     "output_type": "stream",
     "text": [
      "Actual Values:  Counter({1: 92039, 0: 17213})\n",
      "Predicted Values:  Counter({1: 109210, 0: 42})\n"
     ]
    }
   ],
   "source": [
    "import collections\n",
    "print(\"Actual Values: \",collections.Counter(y_test))\n",
    "print(\"Predicted Values: \",collections.Counter(pred))"
   ]
  },
  {
   "cell_type": "code",
   "execution_count": 30,
   "metadata": {},
   "outputs": [
    {
     "data": {
      "image/png": "[encoded data removed]",
      "text/plain": [
       "<matplotlib.figure.Figure at 0x47e131d400>"
      ]
     },
     "metadata": {},
     "output_type": "display_data"
    }
   ],
   "source": [
    "from sklearn.metrics import confusion_matrix\n",
    "import itertools\n",
    "\n",
    "def plot_confusion_matrix(cm, classes,cmap=plt.cm.Blues):\n",
    "   \n",
    "    plt.imshow(cm, interpolation='nearest', cmap=cmap)\n",
    "    plt.title('Confusion matrix')\n",
    "    plt.colorbar()\n",
    "    tick_marks = np.arange(len(classes))\n",
    "    plt.xticks(tick_marks, classes, rotation=45)\n",
    "    plt.yticks(tick_marks, classes)\n",
    "\n",
    "    fmt = 'd'\n",
    "    thresh = cm.max() / 2.\n",
    "    for i, j in itertools.product(range(cm.shape[0]), range(cm.shape[1])):\n",
    "        plt.text(j, i, format(cm[i, j], fmt),\n",
    "                 horizontalalignment=\"center\",\n",
    "                 color=\"white\" if cm[i, j] > thresh else \"black\")\n",
    "\n",
    "    plt.tight_layout()\n",
    "    plt.ylabel('True label')\n",
    "    plt.xlabel('Predicted label')\n",
    "\n",
    "# Compute confusion matrix\n",
    "labels = [0, 1]\n",
    "confusion_matrix_values = confusion_matrix(y_test, pred,labels = labels)\n",
    "\n",
    "np.set_printoptions(precision=2)\n",
    "\n",
    "# Plot confusion matrix\n",
    "plt.figure()\n",
    "plot_confusion_matrix(confusion_matrix_values, classes = labels)\n"
   ]
  },
  {
   "cell_type": "code",
   "execution_count": 31,
   "metadata": {},
   "outputs": [
    {
     "name": "stdout",
     "output_type": "stream",
     "text": [
      "True Negative(tn) :  12\n",
      "False Positive(fp):  17201\n",
      "False Negative(fn) :  30\n",
      "True Positive(tp) :  92009\n",
      "True Positive Rate :  0.9996740512174187\n",
      "True Negative Rate :  0.0006971475047928891\n",
      "False Positive Rate :  0.9993028524952071\n",
      "False Negative Rate :  0.0003259487825812971\n"
     ]
    }
   ],
   "source": [
    "tn, fp, fn, tp = confusion_matrix_values.ravel()\n",
    "print('True Negative(tn) : ',tn)\n",
    "print('False Positive(fp): ',fp)\n",
    "print('False Negative(fn) : ',fn)\n",
    "print('True Positive(tp) : ',tp)\n",
    "\n",
    "\n",
    "# Print the TPR , TNR, FPR, FNR\n",
    "TPR = tp/(tp+fn)\n",
    "print('True Positive Rate : ',TPR)\n",
    "TNR = tn/(tn+fp)\n",
    "print('True Negative Rate : ',TNR)\n",
    "FPR = fp/(tn+fp)\n",
    "print('False Positive Rate : ',FPR)\n",
    "FNR = fn/(tp+fn)\n",
    "print('False Negative Rate : ',FNR)"
   ]
  },
  {
   "cell_type": "markdown",
   "metadata": {},
   "source": [
    "##### Observations:\n",
    "\n",
    "* Out of 92,039 postive reviews,classifier predicted 92,009 positive reviews correctly.\n",
    "* Out of 17213 negative reviews,classifier predicted 12 negative reviews correctly.\n",
    "* classifier predicted  30 reviews as negative, but actually they are positive reviews.\n",
    "* classifier predicted 17201 reviews as positive, but actually they are negative reviews.\n"
   ]
  },
  {
   "cell_type": "markdown",
   "metadata": {},
   "source": [
    "#### Feature Importance"
   ]
  },
  {
   "cell_type": "code",
   "execution_count": 36,
   "metadata": {},
   "outputs": [
    {
     "name": "stdout",
     "output_type": "stream",
     "text": [
      "[      0 1815096 1815098 ... 1986886 1452387 2547230]\n",
      "[1525160 1243846 2289761 ... 1504390 2547230 1452387]\n",
      "Top negative words \n",
      " ['aa' 'oyo love' 'oyster age' 'oyster also' 'oyster amazon' 'oyster anyth'\n",
      " 'oyster bar' 'oyster best' 'oyster bewar' 'oyster big']\n",
      "Top positive words \n",
      " ['made ident' 'hostess golden' 'show power' 'descript collect' 'show pour'\n",
      " 'descript combo' 'hostess gave' 'show potenti' 'descript complet'\n",
      " 'descript compost']\n"
     ]
    }
   ],
   "source": [
    "neg_class_prob_sorted = nb_optimal.feature_log_prob_[0, :].argsort()\n",
    "pos_class_prob_sorted = nb_optimal.feature_log_prob_[1, :].argsort()\n",
    "print(neg_class_prob_sorted)\n",
    "print(pos_class_prob_sorted)\n",
    "print('Top negative words \\n',np.take(tf_idf_vect.get_feature_names(), neg_class_prob_sorted[:10]))\n",
    "print('Top positive words \\n',np.take(tf_idf_vect.get_feature_names(), pos_class_prob_sorted[:10]))"
   ]
  },
  {
   "cell_type": "code",
   "execution_count": 40,
   "metadata": {},
   "outputs": [
    {
     "name": "stdout",
     "output_type": "stream",
     "text": [
      "precision_score:  0.8424961084149803\n",
      "recall_score:  0.9996740512174187\n",
      "fl_score:  0.9143796987811119\n"
     ]
    }
   ],
   "source": [
    "from sklearn.metrics import precision_score\n",
    "from sklearn.metrics import recall_score\n",
    "from sklearn.metrics import f1_score\n",
    "print('precision_score: ',precision_score(y_test, pred,pos_label=1))\n",
    "print('recall_score: ',recall_score(y_test, pred,pos_label=1))\n",
    "f1 = f1_score(y_test, pred,pos_label=1)\n",
    "print(\"fl_score: \",f1)"
   ]
  },
  {
   "cell_type": "markdown",
   "metadata": {},
   "source": [
    "#### Observations:\n",
    "* We can see that, we have got almost high precision score, that means, our classifier predicted only few of positive reviews as negative.\n",
    "* Also we have got the high recall score, out classifier predicted most the reviews are positive which are positive in actual.\n",
    "* As precision and recall score is high , f1_score will also high because it harmonic mean of both.\n"
   ]
  },
  {
   "cell_type": "markdown",
   "metadata": {},
   "source": [
    "#### Final Conclusion:\n",
    "\n",
    " * Accuracy is high for bag of words feature extraction compared to tf-idf. "
   ]
  },
  {
   "cell_type": "code",
   "execution_count": null,
   "metadata": {},
   "outputs": [],
   "source": []
  }
 ],
 "metadata": {
  "kernelspec": {
   "display_name": "Python 3",
   "language": "python",
   "name": "python3"
  },
  "language_info": {
   "codemirror_mode": {
    "name": "ipython",
    "version": 3
   },
   "file_extension": ".py",
   "mimetype": "text/x-python",
   "name": "python",
   "nbconvert_exporter": "python",
   "pygments_lexer": "ipython3",
   "version": "3.6.4"
  }
 },
 "nbformat": 4,
 "nbformat_minor": 2
}
