{
 "cells": [
  {
   "cell_type": "markdown",
   "metadata": {},
   "source": [
    "### Import Required Libraries"
   ]
  },
  {
   "cell_type": "code",
   "execution_count": 149,
   "metadata": {},
   "outputs": [],
   "source": [
    "import numpy as np\n",
    "import matplotlib.pyplot as plt\n",
    "from sklearn.datasets import load_boston\n",
    "\n",
    "from sklearn.model_selection import train_test_split\n",
    "from sklearn.metrics import mean_squared_error\n",
    "from sklearn.preprocessing import StandardScaler\n",
    "\n",
    "from tqdm import tqdm_notebook\n",
    "\n",
    "import warnings\n",
    "warnings.filterwarnings(\"ignore\")"
   ]
  },
  {
   "cell_type": "markdown",
   "metadata": {},
   "source": [
    "### LinearRegression Class"
   ]
  },
  {
   "cell_type": "code",
   "execution_count": 202,
   "metadata": {},
   "outputs": [],
   "source": [
    "class LinearRegression:\n",
    "    \n",
    "    def __init__(self):\n",
    "        self.w = None\n",
    "        self.b = None\n",
    "    \n",
    "    def __linear(self,x):\n",
    "        return np.dot(x,self.w.T)+self.b\n",
    "    \n",
    "    def __compute_grads(self,x,y):\n",
    "        yhat = self.__linear(x)\n",
    "        grad_w = (-(y-yhat) * x)\n",
    "        grad_b = -(y-yhat)\n",
    "        return grad_w, grad_b\n",
    "    \n",
    "    \n",
    "    def train(self, X, Y, epochs=1, eta=0.01, weights_init=True, verbose=0):\n",
    "        # dict to hold loss per iteration\n",
    "        loss_dt = {}\n",
    "        \n",
    "        if weights_init:\n",
    "            # initialize w and b\n",
    "            self.w = np.random.randn(1,X.shape[1])\n",
    "            print('initial wts: ',self.w)\n",
    "            self.b = 0\n",
    "            \n",
    "        \n",
    "        for i in tqdm_notebook(range(epochs), total=epochs, unit=\"epoch\"):\n",
    "            dw = 0 \n",
    "            db = 0 \n",
    "            for x, y in zip(X,Y):\n",
    "                grad_w, grad_b = self.__compute_grads(x,y)\n",
    "                dw = dw + grad_w\n",
    "                db = db + grad_b\n",
    "            \n",
    "            # Total number of training points\n",
    "            m = X.shape[0] \n",
    "            \n",
    "            # update the weights and bias\n",
    "            self.w = self.w - (eta * (dw/m))\n",
    "            self.b = self.b - (eta * (db/m))\n",
    "            \n",
    "            # compute the loss and put it in dict\n",
    "            yhat = self.__linear(X)\n",
    "            loss_dt[i] = mean_squared_error(yhat,Y)\n",
    "             \n",
    "              \n",
    "        if verbose:\n",
    "            plt.plot(loss_dt.values())\n",
    "            plt.xlabel('Epochs')\n",
    "            plt.ylabel('Mean Squared Error')\n",
    "            plt.show()\n",
    "            \n",
    "    def predict(self,X):\n",
    "        y_pred = []\n",
    "        for x in X:\n",
    "            y_pred.append(self.__linear(x))\n",
    "        return y_pred\n",
    "    "
   ]
  },
  {
   "cell_type": "markdown",
   "metadata": {},
   "source": [
    "### Load boston dataset from sklearn datasets"
   ]
  },
  {
   "cell_type": "code",
   "execution_count": 203,
   "metadata": {},
   "outputs": [
    {
     "name": "stdout",
     "output_type": "stream",
     "text": [
      "Shape of X:  (506, 13)\n",
      "Shape of Y:  (506,)\n"
     ]
    }
   ],
   "source": [
    "source = load_boston()\n",
    "data = source['data']\n",
    "label = source['target']\n",
    "features = source['feature_names']\n",
    "print('Shape of X: ',data.shape)\n",
    "print('Shape of Y: ',label.shape)"
   ]
  },
  {
   "cell_type": "markdown",
   "metadata": {},
   "source": [
    "### Split data into train and test"
   ]
  },
  {
   "cell_type": "code",
   "execution_count": 204,
   "metadata": {},
   "outputs": [
    {
     "name": "stdout",
     "output_type": "stream",
     "text": [
      "Shape of X_train:(404, 13) and y_train:(404,)\n",
      "Shape of X_test:(102, 13) and y_test:(102,)\n"
     ]
    }
   ],
   "source": [
    "X_train,X_test,y_train,y_test = train_test_split(data, label, test_size=0.2, random_state=42)\n",
    "print('Shape of X_train:{} and y_train:{}'.format(X_train.shape,y_train.shape))\n",
    "print('Shape of X_test:{} and y_test:{}'.format(X_test.shape,y_test.shape))"
   ]
  },
  {
   "cell_type": "markdown",
   "metadata": {},
   "source": [
    "### Standardization of Data using StandardScalar"
   ]
  },
  {
   "cell_type": "code",
   "execution_count": 205,
   "metadata": {},
   "outputs": [
    {
     "name": "stdout",
     "output_type": "stream",
     "text": [
      "Shape After Standardization\n",
      "Shape of X_train:(404, 13) and y_train:(404,)\n",
      "Shape of X_test:(102, 13) and y_test:(102,)\n"
     ]
    }
   ],
   "source": [
    "scalar = StandardScaler()\n",
    "X_train = scalar.fit_transform(X_train)\n",
    "X_test = scalar.transform(X_test)\n",
    "print('Shape After Standardization')\n",
    "print('Shape of X_train:{} and y_train:{}'.format(X_train.shape,y_train.shape))\n",
    "print('Shape of X_test:{} and y_test:{}'.format(X_test.shape,y_test.shape))"
   ]
  },
  {
   "cell_type": "markdown",
   "metadata": {},
   "source": [
    "### Train the model"
   ]
  },
  {
   "cell_type": "code",
   "execution_count": 242,
   "metadata": {},
   "outputs": [
    {
     "name": "stdout",
     "output_type": "stream",
     "text": [
      "initial wts:  [[ 0.87444122 -0.40711363  0.12097907 -1.52114973  0.07861262 -1.31581561\n",
      "   0.54672153 -2.01273205  0.75614118 -1.0683436  -1.2753016   2.06937318\n",
      "  -0.21134192]]\n"
     ]
    },
    {
     "data": {
      "application/vnd.jupyter.widget-view+json": {
       "model_id": "842c778e48644d9c8c5993fa60e004ec",
       "version_major": 2,
       "version_minor": 0
      },
      "text/plain": [
       "HBox(children=(FloatProgress(value=0.0, max=5000.0), HTML(value='')))"
      ]
     },
     "metadata": {},
     "output_type": "display_data"
    },
    {
     "name": "stdout",
     "output_type": "stream",
     "text": [
      "\n"
     ]
    },
    {
     "data": {
      "image/png": "[encoded data removed]",
      "text/plain": [
       "<Figure size 432x288 with 1 Axes>"
      ]
     },
     "metadata": {
      "needs_background": "light"
     },
     "output_type": "display_data"
    }
   ],
   "source": [
    "lr = LinearRegression()\n",
    "model.train(X_train,y_train,epochs=5000,eta=0.1,verbose=1)"
   ]
  },
  {
   "cell_type": "markdown",
   "metadata": {},
   "source": [
    "### Use the trained model to predict on train and test"
   ]
  },
  {
   "cell_type": "code",
   "execution_count": 243,
   "metadata": {},
   "outputs": [],
   "source": [
    "y_train_pred = model.predict(X_train)\n",
    "y_test_pred = model.predict(X_test)"
   ]
  },
  {
   "cell_type": "markdown",
   "metadata": {},
   "source": [
    "### Calculate RMSE on train and test"
   ]
  },
  {
   "cell_type": "code",
   "execution_count": 255,
   "metadata": {},
   "outputs": [
    {
     "name": "stdout",
     "output_type": "stream",
     "text": [
      "train rmse:  4.6520331848801675\n",
      "test rmse:  4.928602182665341\n"
     ]
    }
   ],
   "source": [
    "print('train rmse: ',mean_squared_error(y_train,y_train_pred,squared=False))\n",
    "print('test rmse: ',mean_squared_error(y_test,y_test_pred,squared=False))"
   ]
  },
  {
   "cell_type": "code",
   "execution_count": null,
   "metadata": {},
   "outputs": [],
   "source": []
  }
 ],
 "metadata": {
  "kernelspec": {
   "display_name": "Python 3",
   "language": "python",
   "name": "python3"
  },
  "language_info": {
   "codemirror_mode": {
    "name": "ipython",
    "version": 3
   },
   "file_extension": ".py",
   "mimetype": "text/x-python",
   "name": "python",
   "nbconvert_exporter": "python",
   "pygments_lexer": "ipython3",
   "version": "3.7.4"
  },
  "toc": {
   "base_numbering": 1,
   "nav_menu": {},
   "number_sections": true,
   "sideBar": true,
   "skip_h1_title": false,
   "title_cell": "Table of Contents",
   "title_sidebar": "Contents",
   "toc_cell": false,
   "toc_position": {},
   "toc_section_display": true,
   "toc_window_display": false
  }
 },
 "nbformat": 4,
 "nbformat_minor": 2
}
