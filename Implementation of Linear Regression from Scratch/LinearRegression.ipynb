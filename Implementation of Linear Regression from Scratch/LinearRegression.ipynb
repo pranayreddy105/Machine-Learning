{
 "cells": [
  {
   "cell_type": "markdown",
   "metadata": {},
   "source": [
    "### Implementation of Linear Regression From Scratch\n",
    "\n",
    "* Linear Regression Without Regularization (Using Gradient Descent Algorithm)\n",
    "* Linear Regression with Momentum based Gradient Descent Algorithm"
   ]
  },
  {
   "cell_type": "markdown",
   "metadata": {},
   "source": [
    "### Import Required libraries"
   ]
  },
  {
   "cell_type": "code",
   "execution_count": 9,
   "metadata": {},
   "outputs": [],
   "source": [
    "import numpy as np \n",
    "import pandas as pd\n",
    "import matplotlib.pyplot as plt\n",
    "# import sys  \n",
    "# !{sys.executable} -m pip install --user matplotlib\n",
    "from tqdm import tqdm\n",
    "from sklearn.model_selection import train_test_split\n",
    "from sklearn.metrics import mean_squared_error\n",
    "from sklearn.preprocessing import StandardScaler\n",
    "\n",
    "from sklearn.datasets import load_boston\n",
    "\n",
    "import warnings\n",
    "warnings.filterwarnings(\"ignore\")\n",
    "\n",
    "np.random.seed(42)"
   ]
  },
  {
   "cell_type": "markdown",
   "metadata": {},
   "source": [
    "### Load Boston Data from sklearn"
   ]
  },
  {
   "cell_type": "code",
   "execution_count": 10,
   "metadata": {
    "tags": []
   },
   "outputs": [
    {
     "output_type": "stream",
     "name": "stdout",
     "text": "Shape of X:  (506, 13)\nShape of Y:  (506,)\nShape of X_train:(404, 13) and y_train:(404,)\nShape of X_test:(102, 13) and y_test:(102,)\nShape After Standardization\nShape of X_train:(404, 13) and y_train:(404,)\nShape of X_test:(102, 13) and y_test:(102,)\n"
    }
   ],
   "source": [
    "source = load_boston()\n",
    "data = source['data']\n",
    "label = source['target']\n",
    "features = source['feature_names']\n",
    "print('Shape of X: ',data.shape)\n",
    "print('Shape of Y: ',label.shape)\n",
    "\n",
    "X_train,X_test,y_train,y_test = train_test_split(data, label, test_size=0.2, random_state=42)\n",
    "print('Shape of X_train:{} and y_train:{}'.format(X_train.shape,y_train.shape))\n",
    "print('Shape of X_test:{} and y_test:{}'.format(X_test.shape,y_test.shape))\n",
    "\n",
    "# Standardize the data\n",
    "scalar = StandardScaler()\n",
    "X_train = scalar.fit_transform(X_train)\n",
    "X_test = scalar.transform(X_test)\n",
    "print('Shape After Standardization')\n",
    "print('Shape of X_train:{} and y_train:{}'.format(X_train.shape,y_train.shape))\n",
    "print('Shape of X_test:{} and y_test:{}'.format(X_test.shape,y_test.shape))"
   ]
  },
  {
   "cell_type": "markdown",
   "metadata": {},
   "source": [
    "### LinearRegression Class with Gradient Descent"
   ]
  },
  {
   "cell_type": "code",
   "execution_count": 3,
   "metadata": {},
   "outputs": [],
   "source": [
    "class LinearRegression:\n",
    "\n",
    "    def __init__(self,fit_intercept=True):\n",
    "        self.fit_intercept = fit_intercept\n",
    "        self.weights = None\n",
    "        self.bias = None\n",
    "        self.train_history = {}\n",
    "\n",
    "    def __weighted_sum(self,x):\n",
    "        if self.fit_intercept:\n",
    "            return np.dot(x,self.weights.T)+self.bias\n",
    "        return np.dot(x,self.weights.T)\n",
    "    \n",
    "    def __compute_grads(self, x, y):\n",
    "        yhat = self.__weighted_sum(x)\n",
    "        dw = -(y - yhat) * x \n",
    "        if self.fit_intercept:\n",
    "            db = -(y- yhat)\n",
    "            return dw, db\n",
    "        return dw, None\n",
    "       \n",
    "    def train(self, train_x, train_y, epochs=100, learning_rate=0.01, \n",
    "                            validation=False, valid_x=None, \n",
    "                            valid_y=None, weights_init=True,\n",
    "                            weights = None, bias = None,\n",
    "                            verbose=0\n",
    "                            ):\n",
    "        \n",
    "        if weights_init:\n",
    "            self.weights = np.random.randn(1,train_x.shape[1])\n",
    "            if self.fit_intercept:\n",
    "                self.bias = 0.0\n",
    "        else:\n",
    "            self.weights = weights\n",
    "            self.bias = bias\n",
    "\n",
    "        for iter in tqdm(range(epochs), total=epochs, unit=\"epoch\"):\n",
    "            dw = 0\n",
    "            db = 0\n",
    "            for x,y in zip(train_x,train_y):\n",
    "                w,b = self.__compute_grads(x,y)\n",
    "                dw = dw + w\n",
    "                if self.fit_intercept:\n",
    "                    db = db + b\n",
    "\n",
    "            # Total number of training points\n",
    "            m = train_x.shape[0]\n",
    "\n",
    "            # update the weights\n",
    "            self.weights = self.weights - learning_rate * (dw/m)\n",
    "            if self.fit_intercept:\n",
    "                self.bias = self.bias - learning_rate * (db/m)\n",
    "\n",
    "            # compute the loss and put it in dict\n",
    "            yhat = self.__weighted_sum(train_x)\n",
    "            self.train_history[iter] = mean_squared_error(yhat,train_y)\n",
    "\n",
    "        if verbose:\n",
    "            plt.plot(list(self.train_history.values()))\n",
    "            plt.xlabel('Epochs')\n",
    "            plt.ylabel('Mean Squared Error')\n",
    "            plt.show()\n",
    "\n",
    "    def predict(self,X):\n",
    "        y_pred = []\n",
    "        for x in X:\n",
    "            y_pred.append(self.__weighted_sum(x))\n",
    "        return y_pred\n",
    "\n",
    "\n"
   ]
  },
  {
   "cell_type": "markdown",
   "metadata": {},
   "source": [
    "### Testing the LinearRegression with Gradient Descent Algorithm"
   ]
  },
  {
   "cell_type": "code",
   "execution_count": null,
   "metadata": {},
   "outputs": [],
   "source": [
    "lr_GD = LinearRegression()\n",
    "lr_GD.train(X_train,y_train,epochs=5000,learning_rate=0.1,verbose=1)\n",
    "\n",
    "y_train_pred = lr_GD.predict(X_train)\n",
    "y_test_pred = lr_GD.predict(X_test)\n",
    "\n",
    "print('train rmse: ',mean_squared_error(y_train,y_train_pred,squared=False))\n",
    "print('test rmse: ',mean_squared_error(y_test,y_test_pred,squared=False))"
   ]
  },
  {
   "cell_type": "code",
   "execution_count": null,
   "metadata": {},
   "outputs": [],
   "source": []
  },
  {
   "cell_type": "code",
   "execution_count": null,
   "metadata": {},
   "outputs": [],
   "source": []
  },
  {
   "cell_type": "code",
   "execution_count": null,
   "metadata": {},
   "outputs": [],
   "source": []
  },
  {
   "cell_type": "code",
   "execution_count": null,
   "metadata": {},
   "outputs": [],
   "source": []
  },
  {
   "cell_type": "code",
   "execution_count": null,
   "metadata": {},
   "outputs": [],
   "source": []
  },
  {
   "cell_type": "code",
   "execution_count": null,
   "metadata": {},
   "outputs": [],
   "source": []
  }
 ],
 "metadata": {
  "language_info": {
   "codemirror_mode": {
    "name": "ipython",
    "version": 3
   },
   "file_extension": ".py",
   "mimetype": "text/x-python",
   "name": "python",
   "nbconvert_exporter": "python",
   "pygments_lexer": "ipython3",
   "version": "3.8.1-final"
  },
  "orig_nbformat": 2,
  "kernelspec": {
   "name": "python38164bite0b7f33f02b9465898157b777f4dc3f4",
   "display_name": "Python 3.8.1 64-bit"
  }
 },
 "nbformat": 4,
 "nbformat_minor": 2
}