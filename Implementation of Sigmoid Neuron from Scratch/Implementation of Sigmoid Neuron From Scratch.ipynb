{
 "cells": [
  {
   "cell_type": "markdown",
   "metadata": {},
   "source": [
    "### Importing Required libraries"
   ]
  },
  {
   "cell_type": "code",
   "execution_count": 253,
   "metadata": {},
   "outputs": [],
   "source": [
    "import numpy as np\n",
    "from numpy.random import seed, randint,randn\n",
    "import pandas as pd\n",
    "import matplotlib.pyplot as plt\n",
    "\n",
    "from sklearn.datasets import load_iris\n",
    "from sklearn.model_selection import train_test_split\n",
    "from sklearn.metrics import f1_score, accuracy_score, mean_squared_error\n",
    "from sklearn.preprocessing import StandardScaler\n",
    "\n",
    "from tqdm import tqdm_notebook\n",
    "\n",
    "import warnings\n",
    "warnings.filterwarnings(\"ignore\")\n",
    "\n",
    "seed(42)  # Reproducible Results with numpy"
   ]
  },
  {
   "cell_type": "markdown",
   "metadata": {},
   "source": [
    "### Sigmoid Neuron Class"
   ]
  },
  {
   "cell_type": "code",
   "execution_count": 252,
   "metadata": {},
   "outputs": [],
   "source": [
    "class SigmoidNeuron:\n",
    "    def __init__(self):\n",
    "        self.w = None\n",
    "        self.b = None\n",
    "    \n",
    "    def weighted_sum(self,x):\n",
    "        return np.dot(x,self.w.T)+self.b\n",
    "    \n",
    "    def sigmoid(self,x):\n",
    "        return 1.0/(1.0+np.exp(-x))\n",
    "    \n",
    "    def grad_w(self,x,y):\n",
    "        y_pred = self.sigmoid(self.weighted_sum(x))\n",
    "        return (y_pred-y) * y_pred * (1-y_pred) * x\n",
    "    \n",
    "    def grad_b(self,x,y):\n",
    "        y_pred = self.sigmoid(self.weighted_sum(x))\n",
    "        return (y_pred-y) * y_pred * (1-y_pred)\n",
    "    \n",
    "    def train(self,X,Y,epochs=10,eta=0.01,weights_init=True,verbose=0):\n",
    "        \n",
    "        # dict to hold loss per iteration\n",
    "        loss_dt = {}\n",
    "        \n",
    "        if weights_init:\n",
    "            # initialize w and b\n",
    "            self.w = np.random.randn(1,X.shape[1])\n",
    "            self.b = 0\n",
    "            \n",
    "        for i in tqdm_notebook(range(epochs), total = epochs, unit='epoch'):\n",
    "            dw = 0\n",
    "            db = 0\n",
    "            for x,y in zip(X,Y):\n",
    "                dw = dw + self.grad_w(x,y)\n",
    "                db = db = self.grad_b(x,y)\n",
    "    \n",
    "            self.w = self.w - eta * dw\n",
    "            self.b = self.b - eta * db\n",
    "            \n",
    "            # compute the loss and put it in dict\n",
    "            y_pred = self.sigmoid(self.weighted_sum(X))\n",
    "            loss_dt[i] = mean_squared_error(y_pred,Y)\n",
    "        \n",
    "        if verbose:\n",
    "            plt.plot(loss_dt.values())\n",
    "            plt.xlabel('Epochs')\n",
    "            plt.ylabel('Mean Squared Error')\n",
    "            plt.show()\n",
    "                   \n",
    "    def predict(self,X,threshold=0.5):\n",
    "        y_pred = []\n",
    "        for x in X:\n",
    "            pred = self.sigmoid(self.weighted_sum(x))\n",
    "            if float(pred) >= threshold:\n",
    "                y_pred.append(1)\n",
    "            else:\n",
    "                y_pred.append(0)\n",
    "        return np.array(y_pred)\n",
    "    \n",
    "    def predict_proba(self,X):\n",
    "        y_pred = []\n",
    "        for x in X:\n",
    "            pred = self.sigmoid(self.weighted_sum(x))\n",
    "            y_pred.append(pred)\n",
    "        return np.array(y_pred)\n",
    "            \n",
    "        "
   ]
  },
  {
   "cell_type": "markdown",
   "metadata": {
    "heading_collapsed": true
   },
   "source": [
    "### Train using Toy Data"
   ]
  },
  {
   "cell_type": "code",
   "execution_count": 131,
   "metadata": {
    "hidden": true
   },
   "outputs": [
    {
     "data": {
      "text/plain": [
       "(array([[-0.94710476,  0.28989485]]), array([-0.01467494]))"
      ]
     },
     "execution_count": 131,
     "metadata": {},
     "output_type": "execute_result"
    }
   ],
   "source": [
    "X = np.array([[2.5,2.5],[4,-1],[1,-4],[-3,1.25],[-2,-4],[1,5]])\n",
    "Y = [1,1,1,0,0,0]\n",
    "model1 = SigmoidNeuron()\n",
    "model1.train(X,Y)\n",
    "model1.w, model1.b"
   ]
  },
  {
   "cell_type": "markdown",
   "metadata": {
    "heading_collapsed": true
   },
   "source": [
    "### Train using iris data"
   ]
  },
  {
   "cell_type": "code",
   "execution_count": 231,
   "metadata": {
    "hidden": true
   },
   "outputs": [
    {
     "name": "stdout",
     "output_type": "stream",
     "text": [
      "Shape of X_train_df:(120, 4) and y_train_df:(120,)\n",
      "Shape of X_test_df:(30, 4) and y_test_df:(30,)\n"
     ]
    }
   ],
   "source": [
    "raw = load_iris()\n",
    "data_x = raw['data']\n",
    "data_y = raw['target']\n",
    "\n",
    "# create the pandas dataframe\n",
    "df = pd.DataFrame(data=data_x,columns=raw['feature_names'])\n",
    "\n",
    "# concat the target to above dataframe\n",
    "df['target'] = data_y\n",
    "\n",
    "# It is multiclass problem , will convert it into binary\n",
    "df['target'] = df['target'].apply(lambda x: 1 if x > 0 else 0)\n",
    "\n",
    "# separate features and target\n",
    "X = df[['sepal length (cm)',  'sepal width (cm)', 'petal length (cm)','petal width (cm)']]\n",
    "y = df['target']\n",
    "\n",
    "# split into train test split\n",
    "X_train_df,X_test_df,y_train_df,y_test_df = train_test_split(X,y,test_size=0.2,random_state=42,stratify=y)\n",
    "\n",
    "print('Shape of X_train_df:{} and y_train_df:{}'.format(X_train_df.shape,y_train_df.shape))\n",
    "print('Shape of X_test_df:{} and y_test_df:{}'.format(X_test_df.shape,y_test_df.shape))"
   ]
  },
  {
   "cell_type": "markdown",
   "metadata": {
    "heading_collapsed": true,
    "hidden": true
   },
   "source": [
    "#### Check Distribution of target in train and test"
   ]
  },
  {
   "cell_type": "code",
   "execution_count": 149,
   "metadata": {
    "hidden": true
   },
   "outputs": [
    {
     "data": {
      "image/png": "[encoded data removed]",
      "text/plain": [
       "<Figure size 576x288 with 2 Axes>"
      ]
     },
     "metadata": {
      "needs_background": "light"
     },
     "output_type": "display_data"
    }
   ],
   "source": [
    "# check the distribution of target in train and test split\n",
    "# fig, ax = plt.subplots(1,2)\n",
    "fig, ax = plt.subplots(1,2,figsize=(8,4))\n",
    "\n",
    "y1 = y_train.value_counts(normalize=True)\n",
    "x1 = list(y_train.value_counts().index)\n",
    "ax[0].bar(x1,y1,color='green')\n",
    "ax[0].set_ylabel('count')\n",
    "ax[0].set_xlabel('Train classes')\n",
    "ax[0].set_xticks([0,1])\n",
    "\n",
    "y2 = y_test.value_counts(normalize=True)\n",
    "x2 = y_test.value_counts().index\n",
    "ax[1].bar(x2,y2,color='green')\n",
    "ax[1].set_xlabel('Test classes')\n",
    "ax[1].set_xticks([0,1])\n",
    "\n",
    "plt.show()"
   ]
  },
  {
   "cell_type": "markdown",
   "metadata": {
    "hidden": true
   },
   "source": [
    "#### Train the model"
   ]
  },
  {
   "cell_type": "code",
   "execution_count": 255,
   "metadata": {
    "hidden": true
   },
   "outputs": [
    {
     "data": {
      "application/vnd.jupyter.widget-view+json": {
       "model_id": "51858d5927424c1da145fa3123b23efa",
       "version_major": 2,
       "version_minor": 0
      },
      "text/plain": [
       "HBox(children=(FloatProgress(value=0.0, max=1000.0), HTML(value='')))"
      ]
     },
     "metadata": {},
     "output_type": "display_data"
    },
    {
     "name": "stdout",
     "output_type": "stream",
     "text": [
      "\n"
     ]
    },
    {
     "data": {
      "image/png": "[encoded data removed]",
      "text/plain": [
       "<Figure size 432x288 with 1 Axes>"
      ]
     },
     "metadata": {
      "needs_background": "light"
     },
     "output_type": "display_data"
    },
    {
     "data": {
      "text/plain": [
       "(array([[ 0.06058062, -1.27351185,  2.09462116,  1.12948108]]),\n",
       " array([-0.0007236]))"
      ]
     },
     "execution_count": 255,
     "metadata": {},
     "output_type": "execute_result"
    }
   ],
   "source": [
    "# Standadize the data\n",
    "std = StandardScaler()\n",
    "X_train = std.fit_transform(X_train_df)\n",
    "X_test = std.transform(X_test_df)\n",
    "\n",
    "# convert pandas dataframe to numpy array\n",
    "y_train = y_train_df.values\n",
    "y_test = y_test_df.values\n",
    "\n",
    "# create an object of SigmoidNeuron\n",
    "model2 = SigmoidNeuron()\n",
    "\n",
    "# Train the model\n",
    "model2.train(X_train,y_train,epochs = 1000,eta=0.001, verbose=1)\n",
    "\n",
    "# Print the weights and intercept\n",
    "model2.w, model2.b"
   ]
  },
  {
   "cell_type": "markdown",
   "metadata": {
    "hidden": true
   },
   "source": [
    "#### Get the predictions for train and test"
   ]
  },
  {
   "cell_type": "code",
   "execution_count": 256,
   "metadata": {
    "hidden": true
   },
   "outputs": [],
   "source": [
    "y_pred_train = model2.predict(X_train)\n",
    "y_pred_test = model2.predict(X_test)"
   ]
  },
  {
   "cell_type": "code",
   "execution_count": 257,
   "metadata": {
    "hidden": true
   },
   "outputs": [
    {
     "name": "stdout",
     "output_type": "stream",
     "text": [
      "Train Accuracy:100.0 and F1_Score:1.0\n",
      "Test Accuracy:100.0 and F1_Score:1.0\n"
     ]
    }
   ],
   "source": [
    "print('Train Accuracy:{} and F1_Score:{}'.format(accuracy_score(y_train,y_pred_train)*100, f1_score(y_train,y_pred_train)))\n",
    "print('Test Accuracy:{} and F1_Score:{}'.format(accuracy_score(y_test,y_pred_test)*100, f1_score(y_test,y_pred_test)))"
   ]
  },
  {
   "cell_type": "code",
   "execution_count": null,
   "metadata": {
    "hidden": true
   },
   "outputs": [],
   "source": []
  }
 ],
 "metadata": {
  "kernelspec": {
   "display_name": "Python 3",
   "language": "python",
   "name": "python3"
  },
  "language_info": {
   "codemirror_mode": {
    "name": "ipython",
    "version": 3
   },
   "file_extension": ".py",
   "mimetype": "text/x-python",
   "name": "python",
   "nbconvert_exporter": "python",
   "pygments_lexer": "ipython3",
   "version": "3.7.4"
  },
  "toc": {
   "base_numbering": 1,
   "nav_menu": {},
   "number_sections": true,
   "sideBar": true,
   "skip_h1_title": false,
   "title_cell": "Table of Contents",
   "title_sidebar": "Contents",
   "toc_cell": false,
   "toc_position": {},
   "toc_section_display": true,
   "toc_window_display": true
  }
 },
 "nbformat": 4,
 "nbformat_minor": 2
}
