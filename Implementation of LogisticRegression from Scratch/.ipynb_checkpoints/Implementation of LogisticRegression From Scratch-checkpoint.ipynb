{
 "cells": [
  {
   "cell_type": "markdown",
   "metadata": {},
   "source": [
    "### Importing Required libraries"
   ]
  },
  {
   "cell_type": "code",
   "execution_count": 4,
   "metadata": {},
   "outputs": [],
   "source": [
    "import numpy as np\n",
    "from numpy.random import seed, randint,randn\n",
    "import pandas as pd\n",
    "import matplotlib.pyplot as plt\n",
    "\n",
    "from sklearn.datasets import load_iris\n",
    "from sklearn.model_selection import train_test_split\n",
    "from sklearn.metrics import f1_score, accuracy_score, mean_squared_error,log_loss\n",
    "from sklearn.preprocessing import StandardScaler\n",
    "\n",
    "from tqdm import tqdm_notebook\n",
    "\n",
    "import warnings\n",
    "warnings.filterwarnings(\"ignore\")\n",
    "\n",
    "seed(42)  # Reproducible Results with numpy"
   ]
  },
  {
   "cell_type": "markdown",
   "metadata": {},
   "source": [
    "### LogisticRegression Class"
   ]
  },
  {
   "cell_type": "code",
   "execution_count": 11,
   "metadata": {},
   "outputs": [],
   "source": [
    "class LogisticRegression:\n",
    "    \n",
    "    def __init__(self,fit_intercept=True, threshold = 0.5):\n",
    "        self.fit_intercept = fit_intercept\n",
    "        self.threshold = threshold\n",
    "        self.w = None\n",
    "        self.b = None\n",
    "\n",
    "    \n",
    "    def __weighted_sum(self,x):\n",
    "        if self.fit_intercept:\n",
    "            return np.dot(x,self.w.T)+self.b\n",
    "        else:\n",
    "            return np.dot(x,self.w.T)\n",
    "    \n",
    "    def __sigmoid(self,x):\n",
    "        return 1.0/(1.0+np.exp(-(x)))\n",
    "    \n",
    "    \n",
    "    def __grad_w_mse(self,x,y):\n",
    "        yhat = self.__sigmoid(self.__weighted_sum(x))\n",
    "        return ((yhat-y) * yhat * (1-yhat) * x)\n",
    "    \n",
    "    def __grad_b_mse(self,x,y):\n",
    "        yhat = self.__sigmoid(self.__weighted_sum(x))\n",
    "        return ((yhat-y) * yhat * (1-yhat))\n",
    "    \n",
    "    def __grad_w_cross_entropy(self,x,y):\n",
    "        if (y == 0) or (y == 1):\n",
    "            yhat = self.__sigmoid(self.__weighted_sum(x))\n",
    "            return (yhat-y) * x\n",
    "        else:\n",
    "            raise ValueError('y should be 0 or 1')\n",
    "    \n",
    "    def __grad_b_cross_entropy(self,x,y):\n",
    "        if (y == 0) or (y == 1):\n",
    "            yhat = self.__sigmoid(self.__weighted_sum(x))\n",
    "            return (yhat-y)\n",
    "        else:\n",
    "            raise ValueError('y should be 0 or 1')\n",
    "    \n",
    "    \n",
    "    def train(self, X, Y, epochs=1, eta=0.1, loss_fn = 'cross_entropy', weights_init=True, verbose=0):\n",
    "        # dict to persist loss per iteration\n",
    "        loss_dt = {}\n",
    "        \n",
    "        if weights_init:\n",
    "            self.w = np.random.randn(1,X.shape[1])\n",
    "            if self.fit_intercept:\n",
    "                self.b = 0\n",
    "        \n",
    "        for iteration in tqdm_notebook(range(epochs), total=epochs, unit='epoch'):\n",
    "            dw = 0\n",
    "            if self.fit_intercept:\n",
    "                db = 0\n",
    "            for x, y in zip(X,Y):\n",
    "                if loss_fn == \"mean_squared_error\":\n",
    "                    dw = dw + self.__grad_w_mse(x,y)\n",
    "                    if self.fit_intercept:\n",
    "                        db = db + self.__grad_b_mse(x,y)\n",
    "                elif loss_fn == 'cross_entropy':\n",
    "                    dw = dw + self.__grad_w_cross_entropy(x,y)\n",
    "                    if self.fit_intercept:\n",
    "                        db = db + self.__grad_b_cross_entropy(x,y)\n",
    "            m = X.shape[0]\n",
    "            self.w = self.w - eta * (dw/m)\n",
    "            if self.fit_intercept:\n",
    "                self.b = self.b - eta * (db/m)\n",
    "            \n",
    "            # compute the loss and put it in dict\n",
    "            y_pred = self.__sigmoid(self.__weighted_sum(X))\n",
    "            if loss_fn == \"mean_squared_error\":\n",
    "                loss_dt[iteration] = mean_squared_error(y_pred,Y)\n",
    "            elif loss_fn == \"cross_entropy\":\n",
    "                loss_dt[iteration] = log_loss(Y,y_pred)\n",
    "        \n",
    "        if verbose:\n",
    "            plt.plot(loss_dt.values())\n",
    "            plt.xlabel('Epochs')\n",
    "            if loss_fn == \"mean_squared_error\":\n",
    "                plt.ylabel('Mean Squared Error')\n",
    "            elif loss_fn == \"cross_entropy\":\n",
    "                plt.ylabel('Log Loss')\n",
    "            plt.show()\n",
    "            \n",
    "    def predict(self,X):\n",
    "        y_pred = []\n",
    "        for x in X:\n",
    "            pred = self.__sigmoid(self.__weighted_sum(x))\n",
    "            if float(pred) >= self.threshold:\n",
    "                y_pred.append(1)\n",
    "            else:\n",
    "                y_pred.append(0)\n",
    "        return np.array(y_pred)\n",
    "    \n",
    "    def predict_proba(self,X):\n",
    "        y_pred = []\n",
    "        for x in X:\n",
    "            pred = self.__sigmoid(self.__weighted_sum(x))\n",
    "            y_pred.append(pred)\n",
    "        return np.array(y_pred)\n",
    "    \n",
    "                "
   ]
  },
  {
   "cell_type": "markdown",
   "metadata": {},
   "source": [
    "### Train Model using Toy Data "
   ]
  },
  {
   "cell_type": "code",
   "execution_count": 51,
   "metadata": {},
   "outputs": [
    {
     "data": {
      "application/vnd.jupyter.widget-view+json": {
       "model_id": "b50b201902d846cd875a63b9500fb71d",
       "version_major": 2,
       "version_minor": 0
      },
      "text/plain": [
       "HBox(children=(FloatProgress(value=0.0, max=500.0), HTML(value='')))"
      ]
     },
     "metadata": {},
     "output_type": "display_data"
    },
    {
     "name": "stdout",
     "output_type": "stream",
     "text": [
      "\n"
     ]
    },
    {
     "data": {
      "image/png": "[encoded data removed]",
      "text/plain": [
       "<Figure size 432x288 with 1 Axes>"
      ]
     },
     "metadata": {
      "needs_background": "light"
     },
     "output_type": "display_data"
    },
    {
     "data": {
      "text/plain": [
       "(array([[ 1.48488574, -0.48831183]]), array([-0.47468008]))"
      ]
     },
     "execution_count": 51,
     "metadata": {},
     "output_type": "execute_result"
    }
   ],
   "source": [
    "X = np.array([[2.5,2.5],[4,-1],[1,-4],[-3,1.25],[-2,-4],[1,5]])\n",
    "Y = [1,1,1,0,0,0]\n",
    "toy = LogisticRegression()\n",
    "toy.train(X,Y,epochs=500,eta=0.1,loss_fn = 'mean_squared_error',verbose=1)\n",
    "toy.w, toy.b"
   ]
  },
  {
   "cell_type": "markdown",
   "metadata": {},
   "source": [
    "#### Predict on train "
   ]
  },
  {
   "cell_type": "code",
   "execution_count": 52,
   "metadata": {},
   "outputs": [
    {
     "data": {
      "text/plain": [
       "array([1, 1, 1, 0, 0, 0])"
      ]
     },
     "execution_count": 52,
     "metadata": {},
     "output_type": "execute_result"
    }
   ],
   "source": [
    "y_pred = toy.predict(X)\n",
    "y_pred"
   ]
  },
  {
   "cell_type": "markdown",
   "metadata": {},
   "source": [
    "#### Calculate accuracy and f1score"
   ]
  },
  {
   "cell_type": "code",
   "execution_count": 53,
   "metadata": {},
   "outputs": [
    {
     "name": "stdout",
     "output_type": "stream",
     "text": [
      "Train Accuracy:100.0 and F1_Score:1.0\n"
     ]
    }
   ],
   "source": [
    "print('Train Accuracy:{} and F1_Score:{}'\n",
    "      .format(accuracy_score(Y,y_pred)*100, f1_score(Y,y_pred)))"
   ]
  },
  {
   "cell_type": "markdown",
   "metadata": {},
   "source": [
    "### Train the model using Iris dataset from sklearn"
   ]
  },
  {
   "cell_type": "code",
   "execution_count": 56,
   "metadata": {},
   "outputs": [
    {
     "name": "stdout",
     "output_type": "stream",
     "text": [
      "Shape of X_train_df:(120, 4) and y_train_df:(120,)\n",
      "Shape of X_test_df:(30, 4) and y_test_df:(30,)\n"
     ]
    }
   ],
   "source": [
    "raw = load_iris()\n",
    "data_x = raw['data']\n",
    "data_y = raw['target']\n",
    "\n",
    "# create the pandas dataframe\n",
    "df = pd.DataFrame(data=data_x,columns=raw['feature_names'])\n",
    "\n",
    "# concat the target to above dataframe\n",
    "df['target'] = data_y\n",
    "\n",
    "# It is multiclass problem , will convert it into binary\n",
    "df['target'] = df['target'].apply(lambda x: 1 if x > 0 else 0)\n",
    "\n",
    "# separate features and target\n",
    "X = df[['sepal length (cm)',  'sepal width (cm)', 'petal length (cm)','petal width (cm)']]\n",
    "y = df['target']\n",
    "\n",
    "# split into train test split\n",
    "X_train_df,X_test_df,y_train_df,y_test_df = train_test_split(X,y,test_size=0.2,random_state=42,stratify=y)\n",
    "\n",
    "print('Shape of X_train_df:{} and y_train_df:{}'.format(X_train_df.shape,y_train_df.shape))\n",
    "print('Shape of X_test_df:{} and y_test_df:{}'.format(X_test_df.shape,y_test_df.shape))"
   ]
  },
  {
   "cell_type": "markdown",
   "metadata": {},
   "source": [
    "#### Check Distribution of target in train and test"
   ]
  },
  {
   "cell_type": "code",
   "execution_count": 58,
   "metadata": {},
   "outputs": [
    {
     "data": {
      "image/png": "[encoded data removed]",
      "text/plain": [
       "<Figure size 576x288 with 2 Axes>"
      ]
     },
     "metadata": {
      "needs_background": "light"
     },
     "output_type": "display_data"
    }
   ],
   "source": [
    "# check the distribution of target in train and test split\n",
    "# fig, ax = plt.subplots(1,2)\n",
    "fig, ax = plt.subplots(1,2,figsize=(8,4))\n",
    "\n",
    "y1 = y_train_df.value_counts(normalize=True)\n",
    "x1 = list(y_train_df.value_counts().index)\n",
    "ax[0].bar(x1,y1,color='green')\n",
    "ax[0].set_ylabel('count')\n",
    "ax[0].set_xlabel('Train classes')\n",
    "ax[0].set_xticks([0,1])\n",
    "\n",
    "y2 = y_test_df.value_counts(normalize=True)\n",
    "x2 = y_test_df.value_counts().index\n",
    "ax[1].bar(x2,y2,color='green')\n",
    "ax[1].set_xlabel('Test classes')\n",
    "ax[1].set_xticks([0,1])\n",
    "\n",
    "plt.show()"
   ]
  },
  {
   "cell_type": "markdown",
   "metadata": {},
   "source": [
    "#### Train the model with loss_fn = 'mean_squared_error'"
   ]
  },
  {
   "cell_type": "code",
   "execution_count": 63,
   "metadata": {},
   "outputs": [
    {
     "data": {
      "application/vnd.jupyter.widget-view+json": {
       "model_id": "725ad09d88d0424f896fdd08739673c7",
       "version_major": 2,
       "version_minor": 0
      },
      "text/plain": [
       "HBox(children=(FloatProgress(value=0.0, max=1000.0), HTML(value='')))"
      ]
     },
     "metadata": {},
     "output_type": "display_data"
    },
    {
     "name": "stdout",
     "output_type": "stream",
     "text": [
      "\n"
     ]
    },
    {
     "data": {
      "image/png": "[encoded data removed]",
      "text/plain": [
       "<Figure size 432x288 with 1 Axes>"
      ]
     },
     "metadata": {
      "needs_background": "light"
     },
     "output_type": "display_data"
    },
    {
     "data": {
      "text/plain": [
       "(array([[-0.76606098, -0.15487393,  1.32076574,  0.69360644]]),\n",
       " array([0.29706375]))"
      ]
     },
     "execution_count": 63,
     "metadata": {},
     "output_type": "execute_result"
    }
   ],
   "source": [
    "# Standadize the data\n",
    "std = StandardScaler()\n",
    "X_train = std.fit_transform(X_train_df)\n",
    "X_test = std.transform(X_test_df)\n",
    "\n",
    "# convert pandas dataframe to numpy array\n",
    "y_train = y_train_df.values\n",
    "y_test = y_test_df.values\n",
    "\n",
    "# create an object of SigmoidNeuron\n",
    "lr_mse = LogisticRegression()\n",
    "\n",
    "# Train the model\n",
    "lr_mse.train(X_train,y_train,epochs = 1000,eta=0.01, loss_fn = 'mean_squared_error',verbose=1)\n",
    "\n",
    "# Print the weights and intercept\n",
    "lr_mse.w, lr_mse.b"
   ]
  },
  {
   "cell_type": "markdown",
   "metadata": {},
   "source": [
    "##### Get the predictions for train and test"
   ]
  },
  {
   "cell_type": "code",
   "execution_count": 64,
   "metadata": {},
   "outputs": [],
   "source": [
    "y_pred_train = lr_mse.predict(X_train)\n",
    "y_pred_test = lr_mse.predict(X_test)"
   ]
  },
  {
   "cell_type": "markdown",
   "metadata": {},
   "source": [
    "##### Calculate accuracy and f1score"
   ]
  },
  {
   "cell_type": "code",
   "execution_count": 65,
   "metadata": {},
   "outputs": [
    {
     "name": "stdout",
     "output_type": "stream",
     "text": [
      "Train Accuracy:100.0 and F1_Score:1.0\n",
      "Test Accuracy:100.0 and F1_Score:1.0\n"
     ]
    }
   ],
   "source": [
    "print('Train Accuracy:{} and F1_Score:{}'.format(accuracy_score(y_train,y_pred_train)*100, f1_score(y_train,y_pred_train)))\n",
    "print('Test Accuracy:{} and F1_Score:{}'.format(accuracy_score(y_test,y_pred_test)*100, f1_score(y_test,y_pred_test)))"
   ]
  },
  {
   "cell_type": "markdown",
   "metadata": {},
   "source": [
    "#### Train the model with loss_fn = 'cross_entropy'"
   ]
  },
  {
   "cell_type": "code",
   "execution_count": 66,
   "metadata": {},
   "outputs": [
    {
     "data": {
      "application/vnd.jupyter.widget-view+json": {
       "model_id": "92d326a290004c9cb32bbb73b3672800",
       "version_major": 2,
       "version_minor": 0
      },
      "text/plain": [
       "HBox(children=(FloatProgress(value=0.0, max=1000.0), HTML(value='')))"
      ]
     },
     "metadata": {},
     "output_type": "display_data"
    },
    {
     "name": "stdout",
     "output_type": "stream",
     "text": [
      "\n"
     ]
    },
    {
     "data": {
      "image/png": "[encoded data removed]",
      "text/plain": [
       "<Figure size 432x288 with 1 Axes>"
      ]
     },
     "metadata": {
      "needs_background": "light"
     },
     "output_type": "display_data"
    },
    {
     "data": {
      "text/plain": [
       "(array([[ 1.2311781 , -1.18908524,  0.31027696,  1.02721796]]),\n",
       " array([0.78667208]))"
      ]
     },
     "execution_count": 66,
     "metadata": {},
     "output_type": "execute_result"
    }
   ],
   "source": [
    "# Standadize the data\n",
    "std = StandardScaler()\n",
    "X_train = std.fit_transform(X_train_df)\n",
    "X_test = std.transform(X_test_df)\n",
    "\n",
    "# convert pandas dataframe to numpy array\n",
    "y_train = y_train_df.values\n",
    "y_test = y_test_df.values\n",
    "\n",
    "# create an object of SigmoidNeuron\n",
    "lr_ce = LogisticRegression()\n",
    "\n",
    "# Train the model\n",
    "lr_ce.train(X_train,y_train,epochs = 1000,eta=0.01, loss_fn = 'cross_entropy',verbose=1)\n",
    "\n",
    "# Print the weights and intercept\n",
    "lr_ce.w, lr_ce.b"
   ]
  },
  {
   "cell_type": "markdown",
   "metadata": {},
   "source": [
    "##### Get the predictions for train and test"
   ]
  },
  {
   "cell_type": "code",
   "execution_count": 67,
   "metadata": {},
   "outputs": [],
   "source": [
    "y_pred_train = lr_ce.predict(X_train)\n",
    "y_pred_test = lr_ce.predict(X_test)"
   ]
  },
  {
   "cell_type": "markdown",
   "metadata": {},
   "source": [
    "##### Calculate accuracy and f1score"
   ]
  },
  {
   "cell_type": "code",
   "execution_count": 68,
   "metadata": {},
   "outputs": [
    {
     "name": "stdout",
     "output_type": "stream",
     "text": [
      "Train Accuracy:100.0 and F1_Score:1.0\n",
      "Test Accuracy:100.0 and F1_Score:1.0\n"
     ]
    }
   ],
   "source": [
    "print('Train Accuracy:{} and F1_Score:{}'.format(accuracy_score(y_train,y_pred_train)*100, f1_score(y_train,y_pred_train)))\n",
    "print('Test Accuracy:{} and F1_Score:{}'.format(accuracy_score(y_test,y_pred_test)*100, f1_score(y_test,y_pred_test)))"
   ]
  },
  {
   "cell_type": "markdown",
   "metadata": {},
   "source": [
    "### Train the model without intercept and using loss_fn = 'cross_entropy' on iris data"
   ]
  },
  {
   "cell_type": "code",
   "execution_count": 70,
   "metadata": {},
   "outputs": [
    {
     "data": {
      "application/vnd.jupyter.widget-view+json": {
       "model_id": "7278dd53af144409b8925485e645e7e2",
       "version_major": 2,
       "version_minor": 0
      },
      "text/plain": [
       "HBox(children=(FloatProgress(value=0.0, max=1000.0), HTML(value='')))"
      ]
     },
     "metadata": {},
     "output_type": "display_data"
    },
    {
     "name": "stdout",
     "output_type": "stream",
     "text": [
      "\n"
     ]
    },
    {
     "data": {
      "image/png": "[encoded data removed]",
      "text/plain": [
       "<Figure size 432x288 with 1 Axes>"
      ]
     },
     "metadata": {
      "needs_background": "light"
     },
     "output_type": "display_data"
    },
    {
     "data": {
      "text/plain": [
       "(array([[ 0.96659864, -1.1822059 ,  0.32664783,  1.52527828]]), None)"
      ]
     },
     "execution_count": 70,
     "metadata": {},
     "output_type": "execute_result"
    }
   ],
   "source": [
    "# Standadize the data\n",
    "std = StandardScaler()\n",
    "X_train = std.fit_transform(X_train_df)\n",
    "X_test = std.transform(X_test_df)\n",
    "\n",
    "# convert pandas dataframe to numpy array\n",
    "y_train = y_train_df.values\n",
    "y_test = y_test_df.values\n",
    "\n",
    "# create an object of SigmoidNeuron\n",
    "lr_ce_nob = LogisticRegression(fit_intercept=False)\n",
    "\n",
    "# Train the model\n",
    "lr_ce_nob.train(X_train,y_train,epochs = 1000,eta=0.01, loss_fn = 'cross_entropy',verbose=1)\n",
    "\n",
    "# Print the weights and intercept\n",
    "lr_ce_nob.w, lr_ce_nob.b"
   ]
  },
  {
   "cell_type": "markdown",
   "metadata": {},
   "source": [
    "##### Get the predictions for train and test"
   ]
  },
  {
   "cell_type": "code",
   "execution_count": 71,
   "metadata": {},
   "outputs": [],
   "source": [
    "y_pred_train = lr_ce_nob.predict(X_train)\n",
    "y_pred_test = lr_ce_nob.predict(X_test)"
   ]
  },
  {
   "cell_type": "markdown",
   "metadata": {},
   "source": [
    "##### Calculate accuracy and f1score"
   ]
  },
  {
   "cell_type": "code",
   "execution_count": 72,
   "metadata": {},
   "outputs": [
    {
     "name": "stdout",
     "output_type": "stream",
     "text": [
      "Train Accuracy:100.0 and F1_Score:1.0\n",
      "Test Accuracy:100.0 and F1_Score:1.0\n"
     ]
    }
   ],
   "source": [
    "print('Train Accuracy:{} and F1_Score:{}'.format(accuracy_score(y_train,y_pred_train)*100, f1_score(y_train,y_pred_train)))\n",
    "print('Test Accuracy:{} and F1_Score:{}'.format(accuracy_score(y_test,y_pred_test)*100, f1_score(y_test,y_pred_test)))"
   ]
  },
  {
   "cell_type": "code",
   "execution_count": null,
   "metadata": {},
   "outputs": [],
   "source": []
  }
 ],
 "metadata": {
  "kernelspec": {
   "display_name": "Python 3",
   "language": "python",
   "name": "python3"
  },
  "language_info": {
   "codemirror_mode": {
    "name": "ipython",
    "version": 3
   },
   "file_extension": ".py",
   "mimetype": "text/x-python",
   "name": "python",
   "nbconvert_exporter": "python",
   "pygments_lexer": "ipython3",
   "version": "3.7.4"
  },
  "toc": {
   "base_numbering": 1,
   "nav_menu": {},
   "number_sections": true,
   "sideBar": true,
   "skip_h1_title": false,
   "title_cell": "Table of Contents",
   "title_sidebar": "Contents",
   "toc_cell": false,
   "toc_position": {},
   "toc_section_display": true,
   "toc_window_display": true
  }
 },
 "nbformat": 4,
 "nbformat_minor": 2
}
