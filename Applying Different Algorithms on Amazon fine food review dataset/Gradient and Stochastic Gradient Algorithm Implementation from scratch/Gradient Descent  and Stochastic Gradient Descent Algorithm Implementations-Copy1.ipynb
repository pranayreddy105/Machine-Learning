{
 "cells": [
  {
   "cell_type": "code",
   "execution_count": 2,
   "metadata": {},
   "outputs": [],
   "source": [
    "# import required modules\n",
    "\n",
    "import numpy as np\n",
    "import pandas as pd\n",
    "import matplotlib.pyplot as plt\n",
    "import seaborn as sns\n",
    "from sklearn import cross_validation\n",
    "from sklearn.cross_validation import train_test_split"
   ]
  },
  {
   "cell_type": "code",
   "execution_count": 3,
   "metadata": {},
   "outputs": [
    {
     "name": "stdout",
     "output_type": "stream",
     "text": [
      "Boston House Prices dataset\n",
      "===========================\n",
      "\n",
      "Notes\n",
      "------\n",
      "Data Set Characteristics:  \n",
      "\n",
      "    :Number of Instances: 506 \n",
      "\n",
      "    :Number of Attributes: 13 numeric/categorical predictive\n",
      "    \n",
      "    :Median Value (attribute 14) is usually the target\n",
      "\n",
      "    :Attribute Information (in order):\n",
      "        - CRIM     per capita crime rate by town\n",
      "        - ZN       proportion of residential land zoned for lots over 25,000 sq.ft.\n",
      "        - INDUS    proportion of non-retail business acres per town\n",
      "        - CHAS     Charles River dummy variable (= 1 if tract bounds river; 0 otherwise)\n",
      "        - NOX      nitric oxides concentration (parts per 10 million)\n",
      "        - RM       average number of rooms per dwelling\n",
      "        - AGE      proportion of owner-occupied units built prior to 1940\n",
      "        - DIS      weighted distances to five Boston employment centres\n",
      "        - RAD      index of accessibility to radial highways\n",
      "        - TAX      full-value property-tax rate per $10,000\n",
      "        - PTRATIO  pupil-teacher ratio by town\n",
      "        - B        1000(Bk - 0.63)^2 where Bk is the proportion of blacks by town\n",
      "        - LSTAT    % lower status of the population\n",
      "        - MEDV     Median value of owner-occupied homes in $1000's\n",
      "\n",
      "    :Missing Attribute Values: None\n",
      "\n",
      "    :Creator: Harrison, D. and Rubinfeld, D.L.\n",
      "\n",
      "This is a copy of UCI ML housing dataset.\n",
      "http://archive.ics.uci.edu/ml/datasets/Housing\n",
      "\n",
      "\n",
      "This dataset was taken from the StatLib library which is maintained at Carnegie Mellon University.\n",
      "\n",
      "The Boston house-price data of Harrison, D. and Rubinfeld, D.L. 'Hedonic\n",
      "prices and the demand for clean air', J. Environ. Economics & Management,\n",
      "vol.5, 81-102, 1978.   Used in Belsley, Kuh & Welsch, 'Regression diagnostics\n",
      "...', Wiley, 1980.   N.B. Various transformations are used in the table on\n",
      "pages 244-261 of the latter.\n",
      "\n",
      "The Boston house-price data has been used in many machine learning papers that address regression\n",
      "problems.   \n",
      "     \n",
      "**References**\n",
      "\n",
      "   - Belsley, Kuh & Welsch, 'Regression diagnostics: Identifying Influential Data and Sources of Collinearity', Wiley, 1980. 244-261.\n",
      "   - Quinlan,R. (1993). Combining Instance-Based and Model-Based Learning. In Proceedings on the Tenth International Conference of Machine Learning, 236-243, University of Massachusetts, Amherst. Morgan Kaufmann.\n",
      "   - many more! (see http://archive.ics.uci.edu/ml/datasets/Housing)\n",
      "\n"
     ]
    }
   ],
   "source": [
    "# For implementation , I am using boston dataset \n",
    "\n",
    "from sklearn.datasets import load_boston\n",
    "boston = load_boston()\n",
    "\n",
    "# To know about dataset\n",
    "print(boston.DESCR)"
   ]
  },
  {
   "cell_type": "code",
   "execution_count": 4,
   "metadata": {},
   "outputs": [
    {
     "name": "stdout",
     "output_type": "stream",
     "text": [
      "Number of intances and attributes:  (506, 13)\n",
      "['CRIM' 'ZN' 'INDUS' 'CHAS' 'NOX' 'RM' 'AGE' 'DIS' 'RAD' 'TAX' 'PTRATIO'\n",
      " 'B' 'LSTAT']\n"
     ]
    }
   ],
   "source": [
    "print(\"Number of intances and attributes: \",boston.data.shape)\n",
    "print(boston.feature_names)"
   ]
  },
  {
   "cell_type": "code",
   "execution_count": 5,
   "metadata": {},
   "outputs": [
    {
     "name": "stdout",
     "output_type": "stream",
     "text": [
      "        0     1     2    3      4      5     6       7    8      9     10  \\\n",
      "0  0.00632  18.0  2.31  0.0  0.538  6.575  65.2  4.0900  1.0  296.0  15.3   \n",
      "1  0.02731   0.0  7.07  0.0  0.469  6.421  78.9  4.9671  2.0  242.0  17.8   \n",
      "2  0.02729   0.0  7.07  0.0  0.469  7.185  61.1  4.9671  2.0  242.0  17.8   \n",
      "3  0.03237   0.0  2.18  0.0  0.458  6.998  45.8  6.0622  3.0  222.0  18.7   \n",
      "4  0.06905   0.0  2.18  0.0  0.458  7.147  54.2  6.0622  3.0  222.0  18.7   \n",
      "\n",
      "       11    12  \n",
      "0  396.90  4.98  \n",
      "1  396.90  9.14  \n",
      "2  392.83  4.03  \n",
      "3  394.63  2.94  \n",
      "4  396.90  5.33  \n"
     ]
    },
    {
     "data": {
      "text/html": [
       "<div>\n",
       "<style scoped>\n",
       "    .dataframe tbody tr th:only-of-type {\n",
       "        vertical-align: middle;\n",
       "    }\n",
       "\n",
       "    .dataframe tbody tr th {\n",
       "        vertical-align: top;\n",
       "    }\n",
       "\n",
       "    .dataframe thead th {\n",
       "        text-align: right;\n",
       "    }\n",
       "</style>\n",
       "<table border=\"1\" class=\"dataframe\">\n",
       "  <thead>\n",
       "    <tr style=\"text-align: right;\">\n",
       "      <th></th>\n",
       "      <th>0</th>\n",
       "      <th>1</th>\n",
       "      <th>2</th>\n",
       "      <th>3</th>\n",
       "      <th>4</th>\n",
       "      <th>5</th>\n",
       "      <th>6</th>\n",
       "      <th>7</th>\n",
       "      <th>8</th>\n",
       "      <th>9</th>\n",
       "      <th>10</th>\n",
       "      <th>11</th>\n",
       "      <th>12</th>\n",
       "      <th>Price</th>\n",
       "    </tr>\n",
       "  </thead>\n",
       "  <tbody>\n",
       "    <tr>\n",
       "      <th>0</th>\n",
       "      <td>0.00632</td>\n",
       "      <td>18.0</td>\n",
       "      <td>2.31</td>\n",
       "      <td>0.0</td>\n",
       "      <td>0.538</td>\n",
       "      <td>6.575</td>\n",
       "      <td>65.2</td>\n",
       "      <td>4.0900</td>\n",
       "      <td>1.0</td>\n",
       "      <td>296.0</td>\n",
       "      <td>15.3</td>\n",
       "      <td>396.90</td>\n",
       "      <td>4.98</td>\n",
       "      <td>24.0</td>\n",
       "    </tr>\n",
       "    <tr>\n",
       "      <th>1</th>\n",
       "      <td>0.02731</td>\n",
       "      <td>0.0</td>\n",
       "      <td>7.07</td>\n",
       "      <td>0.0</td>\n",
       "      <td>0.469</td>\n",
       "      <td>6.421</td>\n",
       "      <td>78.9</td>\n",
       "      <td>4.9671</td>\n",
       "      <td>2.0</td>\n",
       "      <td>242.0</td>\n",
       "      <td>17.8</td>\n",
       "      <td>396.90</td>\n",
       "      <td>9.14</td>\n",
       "      <td>21.6</td>\n",
       "    </tr>\n",
       "    <tr>\n",
       "      <th>2</th>\n",
       "      <td>0.02729</td>\n",
       "      <td>0.0</td>\n",
       "      <td>7.07</td>\n",
       "      <td>0.0</td>\n",
       "      <td>0.469</td>\n",
       "      <td>7.185</td>\n",
       "      <td>61.1</td>\n",
       "      <td>4.9671</td>\n",
       "      <td>2.0</td>\n",
       "      <td>242.0</td>\n",
       "      <td>17.8</td>\n",
       "      <td>392.83</td>\n",
       "      <td>4.03</td>\n",
       "      <td>34.7</td>\n",
       "    </tr>\n",
       "    <tr>\n",
       "      <th>3</th>\n",
       "      <td>0.03237</td>\n",
       "      <td>0.0</td>\n",
       "      <td>2.18</td>\n",
       "      <td>0.0</td>\n",
       "      <td>0.458</td>\n",
       "      <td>6.998</td>\n",
       "      <td>45.8</td>\n",
       "      <td>6.0622</td>\n",
       "      <td>3.0</td>\n",
       "      <td>222.0</td>\n",
       "      <td>18.7</td>\n",
       "      <td>394.63</td>\n",
       "      <td>2.94</td>\n",
       "      <td>33.4</td>\n",
       "    </tr>\n",
       "    <tr>\n",
       "      <th>4</th>\n",
       "      <td>0.06905</td>\n",
       "      <td>0.0</td>\n",
       "      <td>2.18</td>\n",
       "      <td>0.0</td>\n",
       "      <td>0.458</td>\n",
       "      <td>7.147</td>\n",
       "      <td>54.2</td>\n",
       "      <td>6.0622</td>\n",
       "      <td>3.0</td>\n",
       "      <td>222.0</td>\n",
       "      <td>18.7</td>\n",
       "      <td>396.90</td>\n",
       "      <td>5.33</td>\n",
       "      <td>36.2</td>\n",
       "    </tr>\n",
       "  </tbody>\n",
       "</table>\n",
       "</div>"
      ],
      "text/plain": [
       "         0     1     2    3      4      5     6       7    8      9    10  \\\n",
       "0  0.00632  18.0  2.31  0.0  0.538  6.575  65.2  4.0900  1.0  296.0  15.3   \n",
       "1  0.02731   0.0  7.07  0.0  0.469  6.421  78.9  4.9671  2.0  242.0  17.8   \n",
       "2  0.02729   0.0  7.07  0.0  0.469  7.185  61.1  4.9671  2.0  242.0  17.8   \n",
       "3  0.03237   0.0  2.18  0.0  0.458  6.998  45.8  6.0622  3.0  222.0  18.7   \n",
       "4  0.06905   0.0  2.18  0.0  0.458  7.147  54.2  6.0622  3.0  222.0  18.7   \n",
       "\n",
       "       11    12  Price  \n",
       "0  396.90  4.98   24.0  \n",
       "1  396.90  9.14   21.6  \n",
       "2  392.83  4.03   34.7  \n",
       "3  394.63  2.94   33.4  \n",
       "4  396.90  5.33   36.2  "
      ]
     },
     "execution_count": 5,
     "metadata": {},
     "output_type": "execute_result"
    }
   ],
   "source": [
    "# Put dataset into dataframes for easy manipulation\n",
    "bos = pd.DataFrame(boston.data)\n",
    "print(bos.head())\n",
    "\n",
    "# add dependent or predictor attribute to bos\n",
    "bos['Price'] = boston.target\n",
    "\n",
    "bos.head()"
   ]
  },
  {
   "cell_type": "code",
   "execution_count": 6,
   "metadata": {},
   "outputs": [
    {
     "name": "stdout",
     "output_type": "stream",
     "text": [
      "<class 'pandas.core.frame.DataFrame'>\n",
      "<class 'pandas.core.series.Series'>\n"
     ]
    }
   ],
   "source": [
    "# Divide dataset into X and Y\n",
    "\n",
    "X = bos.drop('Price', axis = 1)\n",
    "Y = bos['Price']\n",
    "\n",
    "print(type(X))\n",
    "print(type(Y))\n"
   ]
  },
  {
   "cell_type": "code",
   "execution_count": 7,
   "metadata": {},
   "outputs": [
    {
     "name": "stdout",
     "output_type": "stream",
     "text": [
      "(506, 13)\n"
     ]
    }
   ],
   "source": [
    "from sklearn.preprocessing import StandardScaler\n",
    "std_bos = StandardScaler(with_mean=False).fit_transform(X)\n",
    "print(std_bos.shape)\n"
   ]
  },
  {
   "cell_type": "code",
   "execution_count": 8,
   "metadata": {},
   "outputs": [
    {
     "name": "stdout",
     "output_type": "stream",
     "text": [
      "Shape of dataset and labels :  ((506, 13), (506, 13))\n",
      "Shape of X_train and y_train:   ((339, 13), (339,))\n",
      "Shape of X_test and y_test:   ((167, 13), (167,))\n",
      "Type of X_train and y_train :  (<class 'numpy.ndarray'>, <class 'pandas.core.series.Series'>)\n"
     ]
    }
   ],
   "source": [
    "# Split data in train and test data set \n",
    "\n",
    "X_train, X_test, y_train, y_test = cross_validation.train_test_split(std_bos, Y, test_size = 0.33, random_state = 0)\n",
    "\n",
    "print(\"Shape of dataset and labels : \",(X.shape,X.shape))\n",
    "\n",
    "print(\"Shape of X_train and y_train:  \",(X_train.shape,y_train.shape))\n",
    "\n",
    "print(\"Shape of X_test and y_test:  \",(X_test.shape,y_test.shape))\n",
    "\n",
    "print(\"Type of X_train and y_train : \",(type(X_train),type(y_train)))\n"
   ]
  },
  {
   "cell_type": "markdown",
   "metadata": {},
   "source": [
    "#### Implementation of Gradient Descent Algorithm:"
   ]
  },
  {
   "cell_type": "code",
   "execution_count": 23,
   "metadata": {},
   "outputs": [],
   "source": [
    "costs = []\n",
    "\n",
    "def predict(feature_matrix, coefficients):\n",
    "    \n",
    "    predictions = np.dot( coefficients,feature_matrix.T)\n",
    "    return predictions\n",
    "\n",
    "\n",
    "def gradientDescent(X,y,step = 0.0001,niter  = 10000):\n",
    "    \n",
    "    # initialize step\n",
    "    w = np.zeros(X.shape[1])\n",
    "    b1 = 0\n",
    "    \n",
    "    # Loop through number of iteration\n",
    "    for i in range(niter):\n",
    "        m = X.shape[0]\n",
    "        \n",
    "        # predit y values as we know w and b using equation of plane\n",
    "        pred = predict(X,w)\n",
    "        \n",
    "        # Calculate error or cost\n",
    "        resi = y.T - pred\n",
    "        \n",
    "        cost = (1/m) * np.sum(resi ** 2)\n",
    "        costs.append(cost)\n",
    "        \n",
    "        resi = y.T - pred\n",
    "        for i in range(len(w)):\n",
    "            dw = -2 * np.dot(resi,X[:,i])\n",
    "            w[i] = w[i] - (step/m * np.sum(dw))   \n",
    "        db = -2 / m * np.sum(resi)\n",
    "        b1 = b1 - (step * db)\n",
    "        step = step / 2\n",
    "               \n",
    "    return w,b1"
   ]
  },
  {
   "cell_type": "markdown",
   "metadata": {},
   "source": [
    "#### printing the weights and intercepts using custom gradient descent implementation:"
   ]
  },
  {
   "cell_type": "code",
   "execution_count": 24,
   "metadata": {},
   "outputs": [
    {
     "name": "stdout",
     "output_type": "stream",
     "text": [
      "optimal w value:  [0.00210735 0.0060139  0.01247972 0.0029697  0.04115279 0.0824103\n",
      " 0.02031727 0.01661874 0.00822155 0.01950992 0.07351174 0.0361768\n",
      " 0.01267238]\n",
      "optimal b value:  0.008871882873510343\n"
     ]
    }
   ],
   "source": [
    "w,b  = gradientDescent(X_train,y_train)  \n",
    "\n",
    "print(\"optimal w value: \",w)\n",
    "print(\"optimal b value: \",b)"
   ]
  },
  {
   "cell_type": "code",
   "execution_count": 22,
   "metadata": {},
   "outputs": [
    {
     "data": {
      "image/png": "[encoded data removed]",
      "text/plain": [
       "<matplotlib.figure.Figure at 0x2ac1202f1d0>"
      ]
     },
     "metadata": {},
     "output_type": "display_data"
    }
   ],
   "source": [
    "#Plot the cost function...\n",
    "plt.title('cost function')\n",
    "plt.xlabel('Number of iterations')\n",
    "plt.ylabel('cost')\n",
    "plt.plot(cost)\n",
    "plt.show()"
   ]
  },
  {
   "cell_type": "code",
   "execution_count": 9,
   "metadata": {},
   "outputs": [],
   "source": [
    "def gradientDescent(X,y,niter=100,stepsize=1):\n",
    "    \n",
    "    # initialization step\n",
    "    w = np.zeros(X.shape[1]) # Initialize an array with dimensions equal to number of features in dataset(X)\n",
    "    b = 0\n",
    "    \n",
    "    costs = []\n",
    "     \n",
    "    # Loop through number of iterations\n",
    "    for i in range(niter):\n",
    "        \n",
    "        m = X.shape[0]\n",
    "        # predit y values as we know w and b using equation of plane\n",
    "        y_pred = np.dot(w,X.T) + b\n",
    "        \n",
    "        # Calculate error or cost\n",
    "        cost = (1/m) * np.sum((y.T - y_pred) ** 2)\n",
    "        costs.append(cost)\n",
    "        \n",
    "        # update weight and intercept \n",
    "        dw = (-2/m) * np.sum((np.dot(X.T,(y.T - y_pred).T)))\n",
    "        db = (-2/m) * np.sum((y.T - y_pred))\n",
    "        \n",
    "        w = w - (stepsize * dw)\n",
    "        b = b - (stepsize * db)\n",
    "        \n",
    "        stepsize = stepsize / 2\n",
    "    \n",
    "    return w, b, costs"
   ]
  },
  {
   "cell_type": "code",
   "execution_count": 144,
   "metadata": {},
   "outputs": [],
   "source": [
    "# w,b, cost = gradientDescent(X_train,y_train)  \n",
    "\n",
    "# print(\"optimal w value: \",w)\n",
    "# print(\"optimal b value: \",b)"
   ]
  },
  {
   "cell_type": "markdown",
   "metadata": {},
   "source": [
    "####  printing the weights and intercepts using custom gradient descent  implementation:"
   ]
  },
  {
   "cell_type": "code",
   "execution_count": 10,
   "metadata": {},
   "outputs": [
    {
     "name": "stdout",
     "output_type": "stream",
     "text": [
      "optimal w value:  [-7.25357045e+19 -7.25357045e+19 -7.25357045e+19 -7.25357045e+19\n",
      " -7.25357045e+19 -7.25357045e+19 -7.25357045e+19 -7.25357045e+19\n",
      " -7.25357045e+19 -7.25357045e+19 -7.25357045e+19 -7.25357045e+19\n",
      " -7.25357045e+19]\n",
      "optimal b value:  -1.8561109007687695e+18\n"
     ]
    }
   ],
   "source": [
    "w,b, cost = gradientDescent(X_train,y_train)  \n",
    "\n",
    "print(\"optimal w value: \",w)\n",
    "print(\"optimal b value: \",b)\n",
    "\n"
   ]
  },
  {
   "cell_type": "code",
   "execution_count": 145,
   "metadata": {},
   "outputs": [
    {
     "data": {
      "image/png": "[encoded data removed]",
      "text/plain": [
       "<matplotlib.figure.Figure at 0x15b96eaa470>"
      ]
     },
     "metadata": {},
     "output_type": "display_data"
    }
   ],
   "source": [
    "#Plot the cost function...\n",
    "\n",
    "plt.title('cost function')\n",
    "plt.xlabel('Number of iterations')\n",
    "plt.ylabel('cost')\n",
    "plt.plot(cost)\n",
    "plt.show()\n",
    "\n"
   ]
  },
  {
   "cell_type": "markdown",
   "metadata": {},
   "source": [
    "#### Creating custom class for linear regression:"
   ]
  },
  {
   "cell_type": "code",
   "execution_count": 146,
   "metadata": {},
   "outputs": [],
   "source": [
    "from sklearn.metrics import mean_squared_error\n",
    "    \n",
    "class MyLinearRegression():\n",
    "    \n",
    "    def __init__(self):\n",
    "        self.w = None\n",
    "        self.b = None\n",
    "        \n",
    "    \n",
    "    def fit(self,X,y):\n",
    "        self.w,self.b,cost = gradientDescent(X,y)\n",
    "        coef_ = self.w[0]\n",
    "        intercept_ = self.b\n",
    "        \n",
    "    def predict(self,X):\n",
    "        return np.dot(self.w,X.T) + self.b\n",
    "        \n"
   ]
  },
  {
   "cell_type": "code",
   "execution_count": 147,
   "metadata": {},
   "outputs": [
    {
     "name": "stdout",
     "output_type": "stream",
     "text": [
      "Mean Sqaure Error for Custom Model:  7.902939398268072e+42\n"
     ]
    }
   ],
   "source": [
    "# Using Custom Linear Regression for prediction\n",
    "\n",
    "# instantiate the model\n",
    "mylr = MyLinearRegression()\n",
    "\n",
    "# train the model\n",
    "mylr.fit(X_train,y_train)\n",
    "\n",
    "# predict the response for test data\n",
    "my_pred = mylr.predict(X_test)\n",
    "\n",
    "\n",
    "# Mean Squared Error (MSE) is the mean of the squared errors:\n",
    "print(\"Mean Sqaure Error for Custom Model: \",mean_squared_error(y_test, my_pred))\n",
    "\n"
   ]
  },
  {
   "cell_type": "markdown",
   "metadata": {},
   "source": [
    "#### Using Sklearn Implementation of Linear Regression:"
   ]
  },
  {
   "cell_type": "code",
   "execution_count": 148,
   "metadata": {},
   "outputs": [
    {
     "name": "stdout",
     "output_type": "stream",
     "text": [
      "weights:  [-1.01159736  1.10876957  0.02506103  0.6391972  -1.92610031  2.5656009\n",
      " -0.31691372 -3.34052379  2.18926594 -1.82816575 -2.26958806  0.57682513\n",
      " -3.71834021]\n",
      "intercept:  40.88297292518496\n",
      "Mean Sqaure Error Using Sklearn Linear Regression:  26.551004782161208\n"
     ]
    }
   ],
   "source": [
    "from sklearn.linear_model import LinearRegression\n",
    "\n",
    "\n",
    "# instantiate the model\n",
    "reg = LinearRegression()\n",
    "\n",
    "# train the model\n",
    "reg.fit(X_train,y_train)\n",
    "\n",
    "# predict the response for test data\n",
    "a_pred = reg.predict(X_test)\n",
    "\n",
    "# print the weights\n",
    "print(\"weights: \",reg.coef_)\n",
    "\n",
    "# print the intercept\n",
    "print(\"intercept: \",reg.intercept_)\n",
    "\n",
    "# Mean Squared Error (MSE) is the mean of the squared errors:\n",
    "print(\"Mean Sqaure Error Using Sklearn Linear Regression: \",mean_squared_error(y_test, a_pred))\n"
   ]
  },
  {
   "cell_type": "code",
   "execution_count": null,
   "metadata": {
    "collapsed": true
   },
   "outputs": [],
   "source": []
  },
  {
   "cell_type": "code",
   "execution_count": 149,
   "metadata": {},
   "outputs": [
    {
     "name": "stdout",
     "output_type": "stream",
     "text": [
      "[-0.77363541  0.67485455 -0.50078201  0.82058238  0.24339853  4.02493491\n",
      " -0.16224852 -0.86829087 -0.08238951 -0.45366337 -1.25547395  1.00500131\n",
      " -2.4139901 ]\n",
      "0.21109434713860614\n",
      "Mean Sqaure Error for Custom Model:  29.54705431617043\n"
     ]
    }
   ],
   "source": [
    "\n",
    "\n",
    "def predict_output(feature_matrix, coefficients):\n",
    "    ''' Returns an array of predictions\n",
    "    inputs - \n",
    "        feature_matrix - 2-D array of dimensions data points by features\n",
    "        coefficients - 1-D array of estimated feature coefficients\n",
    "        \n",
    "    output - 1-D array of predictions\n",
    "    '''\n",
    "    predictions = np.dot( coefficients,feature_matrix.T)\n",
    "    return predictions\n",
    "\n",
    "\n",
    "def grad(X,y,step = 0.0001,iter  = 10000):\n",
    "    w = np.zeros(X.shape[1])\n",
    "    b1 = 0\n",
    "    for i in range(iter):\n",
    "        m = X.shape[0]\n",
    "        pred = predict_output(X,w)\n",
    "        resi = y.T - pred\n",
    "        for i in range(len(w)):\n",
    "            dw = -2 * np.dot(resi,X[:,i])\n",
    "            w[i] = w[i] - (step/m * np.sum(dw))   \n",
    "        db = -2 / m * np.sum(resi)\n",
    "        b1 = b1 - (step * db)\n",
    "#         step = step / 2\n",
    "               \n",
    "    return w,b1\n",
    "\n",
    "w,t = grad(X_train,y_train)\n",
    "print(w)\n",
    "print(t)\n",
    "\n",
    "from sklearn.metrics import mean_squared_error\n",
    "    \n",
    "class MyLinearRegression():\n",
    "    \n",
    "    def __init__(self):\n",
    "        self.w = None\n",
    "        self.b = None\n",
    "        \n",
    "    \n",
    "    def fit(self,X,y):\n",
    "        self.w,self.b = grad(X,y)\n",
    "        coef_ = self.w[0]\n",
    "        intercept_ = self.b\n",
    "        \n",
    "    def predict(self,X):\n",
    "        return np.dot(self.w,X.T) + self.b\n",
    "    \n",
    "# Using Custom Linear Regression for prediction\n",
    "\n",
    "# instantiate the model\n",
    "mylr = MyLinearRegression()\n",
    "\n",
    "# train the model\n",
    "mylr.fit(X_train,y_train)\n",
    "\n",
    "# predict the response for test data\n",
    "my_pred = mylr.predict(X_test)\n",
    "\n",
    "\n",
    "# Mean Squared Error (MSE) is the mean of the squared errors:\n",
    "print(\"Mean Sqaure Error for Custom Model: \",mean_squared_error(y_test, my_pred))"
   ]
  },
  {
   "cell_type": "code",
   "execution_count": null,
   "metadata": {},
   "outputs": [],
   "source": []
  },
  {
   "cell_type": "code",
   "execution_count": null,
   "metadata": {},
   "outputs": [],
   "source": []
  }
 ],
 "metadata": {
  "kernelspec": {
   "display_name": "Python 3",
   "language": "python",
   "name": "python3"
  },
  "language_info": {
   "codemirror_mode": {
    "name": "ipython",
    "version": 3
   },
   "file_extension": ".py",
   "mimetype": "text/x-python",
   "name": "python",
   "nbconvert_exporter": "python",
   "pygments_lexer": "ipython3",
   "version": "3.6.4"
  }
 },
 "nbformat": 4,
 "nbformat_minor": 2
}
