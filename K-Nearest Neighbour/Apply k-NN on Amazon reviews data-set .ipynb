{
 "cells": [
  {
   "cell_type": "markdown",
   "metadata": {},
   "source": [
    "### DataSet : Amazon Fine Food Reviews \n",
    "\n",
    "Data Source: https://www.kaggle.com/snap/amazon-fine-food-reviews\n",
    "\n",
    "The Amazon Fine Food Reviews dataset consists of reviews of fine foods from Amazon.<br>\n",
    "\n",
    "Number of reviews: 568,454<br>\n",
    "Number of users: 256,059<br>\n",
    "Number of products: 74,258<br>\n",
    "Timespan: Oct 1999 - Oct 2012<br>\n",
    "Number of Attributes/Columns in data: 10 \n",
    "\n",
    "Attribute Information:\n",
    "\n",
    "1. Id\n",
    "2. ProductId - unique identifier for the product\n",
    "3. UserId - unqiue identifier for the user\n",
    "4. ProfileName\n",
    "5. HelpfulnessNumerator - number of users who found the review helpful\n",
    "6. HelpfulnessDenominator - number of users who indicated whether they found the review helpful or not\n",
    "7. Score - rating between 1 and 5\n",
    "8. Time - timestamp for the review\n",
    "9. Summary - brief summary of the review\n",
    "10. Text - text of the review\n",
    "\n",
    "\n",
    "#### Objective:\n",
    "Given a review, determine whether the review is positive (Rating of 4 or 5) or negative (rating of 1 or 2).\n",
    "\n",
    "[Q]How to determine if a review is positive or negative?<br>\n",
    "<br> \n",
    "[Ans] We could use the Score/Rating. A rating of 4 or 5 could be cosnidered a positive review. A review of 1 or 2 could be considered negative. A review of 3 is nuetral and ignored. This is an approximate and proxy way of determining the polarity (positivity/negativity) of a review.\n",
    "<br>\n",
    "\n",
    "* The dataset is available in two forms\n",
    "   1. csv file\n",
    "   2.SQLite Database\n",
    "    \n",
    "* We can use any one of the form to load data\n",
    "\n",
    "\n",
    "#### Apply KNN algorithm to predit whether given new review is postive or negative"
   ]
  },
  {
   "cell_type": "code",
   "execution_count": 3,
   "metadata": {},
   "outputs": [],
   "source": [
    "# importing required modules for data pre-processing, data manipulation\n",
    "import numpy as np\n",
    "import pandas as pd\n",
    "import matplotlib.pyplot as plt\n",
    "import seaborn as sns"
   ]
  },
  {
   "cell_type": "code",
   "execution_count": 4,
   "metadata": {},
   "outputs": [
    {
     "name": "stdout",
     "output_type": "stream",
     "text": [
      "Shape of Data:\t (568454, 10)\n"
     ]
    },
    {
     "data": {
      "text/plain": [
       "5    363122\n",
       "4     80655\n",
       "1     52268\n",
       "3     42640\n",
       "2     29769\n",
       "Name: Score, dtype: int64"
      ]
     },
     "execution_count": 4,
     "metadata": {},
     "output_type": "execute_result"
    }
   ],
   "source": [
    "# load data \n",
    "initial_data = pd.read_csv('Reviews.csv')\n",
    "print(\"Shape of Data:\\t\",initial_data.shape)  # print dimensions of data \n",
    "initial_data['Score'].value_counts()"
   ]
  },
  {
   "cell_type": "code",
   "execution_count": 5,
   "metadata": {},
   "outputs": [
    {
     "name": "stdout",
     "output_type": "stream",
     "text": [
      "Shape of Data after filtering which has score equal to 3:  (525814, 10)\n"
     ]
    },
    {
     "data": {
      "text/plain": [
       "(525814, 10)"
      ]
     },
     "execution_count": 5,
     "metadata": {},
     "output_type": "execute_result"
    }
   ],
   "source": [
    "# Filter out data points which Score equal to 3 because they are neither +ve or -ve\n",
    "initial_data = initial_data[initial_data['Score'] != 3]\n",
    "print(\"Shape of Data after filtering which has score equal to 3: \",initial_data.shape)  # print dimensions of data \n",
    "\n",
    "# convert type of Score features to string 1) if 1<=Score<= 2 then 'negative' 2) if 4<=Score<=5 then 'positive'\n",
    "def convert(value):\n",
    "    if value >= 4:\n",
    "        return 1\n",
    "    return 0\n",
    "\n",
    "actual_data = initial_data.Score\n",
    "converted_data = actual_data.map(convert)\n",
    "initial_data['Score'] = converted_data\n",
    "\n",
    "initial_data.shape"
   ]
  },
  {
   "cell_type": "markdown",
   "metadata": {},
   "source": [
    "##### Data Cleaning: Deduplication\n",
    "\n",
    "We need remove if there are any duplicate entries in order to get unbiased results for the analysis of the data."
   ]
  },
  {
   "cell_type": "code",
   "execution_count": 6,
   "metadata": {},
   "outputs": [
    {
     "name": "stdout",
     "output_type": "stream",
     "text": [
      "(364173, 10)\n",
      "(364171, 10)\n"
     ]
    },
    {
     "data": {
      "text/plain": [
       "1    307061\n",
       "0     57110\n",
       "Name: Score, dtype: int64"
      ]
     },
     "execution_count": 6,
     "metadata": {},
     "output_type": "execute_result"
    }
   ],
   "source": [
    "# Sorting data according to ProductId in ascending order\n",
    "sorted_data=initial_data.sort_values('ProductId', axis=0, ascending=True, inplace=False, kind='quicksort', na_position='last')\n",
    "\n",
    "# Deduplication of entries\n",
    "staging_data = sorted_data.drop_duplicates(subset={\"UserId\",\"ProfileName\",\"Time\",\"Text\"}, keep='first', inplace=False)\n",
    "print(staging_data.shape)\n",
    "\n",
    "staging_data=staging_data[staging_data.HelpfulnessNumerator<=staging_data.HelpfulnessDenominator]\n",
    "print(staging_data.shape)\n",
    "\n",
    "# How many positive and negative reviews are present in our dataset?\n",
    "staging_data['Score'].value_counts()"
   ]
  },
  {
   "cell_type": "markdown",
   "metadata": {},
   "source": [
    "We have 0.5 million data points after removing duplicates.\n",
    "So I am sampling data points so that I have data less than the original data\n",
    "\n",
    "###### Following is the line for sample available in pandas:\n",
    "https://pandas.pydata.org/pandas-docs/stable/generated/pandas.DataFrame.sample.html\n",
    "\n",
    "######  Follwing is the constructor of sample:\n",
    "DataFrame.sample(n=None, frac=None, replace=False, weights=None, random_state=None, axis=None)\n",
    "- frac parameter tells about what fraction of data must return, valid values lies between [0,1]"
   ]
  },
  {
   "cell_type": "code",
   "execution_count": 7,
   "metadata": {},
   "outputs": [
    {
     "name": "stdout",
     "output_type": "stream",
     "text": [
      "Shape of data before sampling:  (364171, 10)\n",
      "Shape of sample data:  (3278, 10)\n",
      "1    2791\n",
      "0     487\n",
      "Name: Score, dtype: int64\n"
     ]
    }
   ],
   "source": [
    "print(\"Shape of data before sampling: \",staging_data.shape)   # count before sample\n",
    "\n",
    "# select some random sample points\n",
    "sample_data = staging_data.sample(frac = 0.009, random_state=0)\n",
    "\n",
    "# print(\"Type of sampled data: \",type(sample_data))\n",
    "\n",
    "print(\"Shape of sample data: \",sample_data.shape)\n",
    "\n",
    "# Number of positive and negative points in sampled data 1 indicates +ve and 0 indicates -ve \n",
    "count = sample_data['Score'].value_counts()\n",
    "print(count)"
   ]
  },
  {
   "cell_type": "markdown",
   "metadata": {},
   "source": [
    "#### Text Preprocessing: Stemming, stop-word removal and Lemmatization.\n",
    "\n",
    "Data requires some preprocessing before we go on further with analysis and making the prediction model.\n",
    "\n",
    "Hence in the Preprocessing phase we do the following in the order below:-\n",
    "\n",
    "1. Begin by removing the html tags\n",
    "2. Remove any punctuations or limited set of special characters like , or . or # etc.\n",
    "3. Check if the word is made up of english letters and is not alpha-numeric\n",
    "4. Check to see if the length of the word is greater than 2 (as it was researched that there is no adjective in 2-letters)\n",
    "5. Convert the word to lowercase\n",
    "6. Remove Stopwords\n",
    "7. Finally Snowball Stemming the word <br>\n",
    "\n",
    "After which we collect the words used to describe positive and negative reviews"
   ]
  },
  {
   "cell_type": "code",
   "execution_count": 12,
   "metadata": {},
   "outputs": [],
   "source": [
    "# import required modules\n",
    "import re                # regular expression module used for pattern matching \n",
    "import string\n",
    "import nltk             # natural language processing tool kit for text processing\n",
    "from nltk.corpus import stopwords \n",
    "from nltk.stem import PorterStemmer\n",
    "from nltk.stem.wordnet import WordNetLemmatizer\n",
    "\n",
    "stop = set(stopwords.words('english')) # set of stopwords\n",
    "sno = nltk.stem.SnowballStemmer('english') # initialising the snowball stemmer\n",
    "\n",
    "# function to clean the word of any html-tags\n",
    "def cleanhtml(sentence): \n",
    "    cleanr = re.compile('<.*?>')\n",
    "    cleantext = re.sub(cleanr, ' ', sentence)\n",
    "    return cleantext\n",
    "\n",
    "# function to clean the word of any punctuation or special characters\n",
    "def cleanpunc(sentence): \n",
    "    cleaned = re.sub(r'[?|!|\\'|\"|#]',r'',sentence)\n",
    "    cleaned = re.sub(r'[.|,|)|(|\\|/]',r' ',cleaned)\n",
    "    return  cleaned\n",
    "\n",
    "# Code for implementing step-by-step the checks mentioned in the pre-processing phase\n",
    "str1=' '\n",
    "preprocessed_string=[]\n",
    "for sent in sample_data['Text'].values:\n",
    "    filtered_sentence=[]\n",
    "    sent=cleanhtml(sent)    # remove HTMl tags\n",
    "    for w in sent.split():\n",
    "        for cleaned_words in cleanpunc(w).split():\n",
    "            if((cleaned_words.isalpha()) & (len(cleaned_words)>2)):    \n",
    "                if(cleaned_words.lower() not in stop):\n",
    "                    s=(sno.stem(cleaned_words.lower())).encode('utf8')\n",
    "                    filtered_sentence.append(s)\n",
    "                else:\n",
    "                    continue\n",
    "            else:\n",
    "                continue \n",
    "    str1 = b\" \".join(filtered_sentence) # final string of cleaned words\n",
    "    preprocessed_string.append(str1)"
   ]
  },
  {
   "cell_type": "code",
   "execution_count": 13,
   "metadata": {},
   "outputs": [
    {
     "name": "stdout",
     "output_type": "stream",
     "text": [
      "(3278, 11)\n"
     ]
    },
    {
     "data": {
      "text/html": [
       "<div>\n",
       "<style scoped>\n",
       "    .dataframe tbody tr th:only-of-type {\n",
       "        vertical-align: middle;\n",
       "    }\n",
       "\n",
       "    .dataframe tbody tr th {\n",
       "        vertical-align: top;\n",
       "    }\n",
       "\n",
       "    .dataframe thead th {\n",
       "        text-align: right;\n",
       "    }\n",
       "</style>\n",
       "<table border=\"1\" class=\"dataframe\">\n",
       "  <thead>\n",
       "    <tr style=\"text-align: right;\">\n",
       "      <th></th>\n",
       "      <th>Text</th>\n",
       "      <th>CleanedText</th>\n",
       "    </tr>\n",
       "  </thead>\n",
       "  <tbody>\n",
       "    <tr>\n",
       "      <th>84633</th>\n",
       "      <td>I've known about my celiac disease for over 25...</td>\n",
       "      <td>b'ive known celiac diseas year tri mani brand ...</td>\n",
       "    </tr>\n",
       "    <tr>\n",
       "      <th>387497</th>\n",
       "      <td>The lollipops came quickly and added a great p...</td>\n",
       "      <td>b'lollipop came quick ad great pop color babi ...</td>\n",
       "    </tr>\n",
       "    <tr>\n",
       "      <th>275998</th>\n",
       "      <td>This flavor rocks, as a Blueberry flavor lover...</td>\n",
       "      <td>b'flavor rock blueberri flavor lover product e...</td>\n",
       "    </tr>\n",
       "    <tr>\n",
       "      <th>29821</th>\n",
       "      <td>This tea is so wonderfully refreshing.  It's l...</td>\n",
       "      <td>b'tea wonder refresh like comfort food best iv...</td>\n",
       "    </tr>\n",
       "    <tr>\n",
       "      <th>186462</th>\n",
       "      <td>This mix from Pamela's Products has been the t...</td>\n",
       "      <td>b'mix pamela product best far make soft delect...</td>\n",
       "    </tr>\n",
       "  </tbody>\n",
       "</table>\n",
       "</div>"
      ],
      "text/plain": [
       "                                                     Text  \\\n",
       "84633   I've known about my celiac disease for over 25...   \n",
       "387497  The lollipops came quickly and added a great p...   \n",
       "275998  This flavor rocks, as a Blueberry flavor lover...   \n",
       "29821   This tea is so wonderfully refreshing.  It's l...   \n",
       "186462  This mix from Pamela's Products has been the t...   \n",
       "\n",
       "                                              CleanedText  \n",
       "84633   b'ive known celiac diseas year tri mani brand ...  \n",
       "387497  b'lollipop came quick ad great pop color babi ...  \n",
       "275998  b'flavor rock blueberri flavor lover product e...  \n",
       "29821   b'tea wonder refresh like comfort food best iv...  \n",
       "186462  b'mix pamela product best far make soft delect...  "
      ]
     },
     "execution_count": 13,
     "metadata": {},
     "output_type": "execute_result"
    }
   ],
   "source": [
    "# Adding a column of CleanedText which displays the data after pre-processing of the review \n",
    "sample_data['CleanedText'] = preprocessed_string \n",
    "\n",
    "print(sample_data.shape)\n",
    "\n",
    "# To verify first few rows\n",
    "sample_data[['Text','CleanedText']].head(5)"
   ]
  },
  {
   "cell_type": "code",
   "execution_count": 14,
   "metadata": {},
   "outputs": [],
   "source": [
    "# This is a time series dataset , so we need to train the model on past data and test it on lastest data\n",
    "\n",
    "# Sorting data using time \n",
    "sample_data.sort_values('Time', axis=0, ascending=True, inplace=True, kind='quicksort', na_position='last')\n"
   ]
  },
  {
   "cell_type": "markdown",
   "metadata": {},
   "source": [
    "###### Machine Learning is all about math. For any Machine Learning model to work, we have to convert features which is having text to something(Vector) that an algorithm can use.\n",
    "\n",
    "* There are lot of methods available to convert to text to vector. \n",
    "        1) Bag of words\n",
    "        2) TF-IDF (term frequency–inverse document frequency)\n",
    "        3) Avg W2V\n",
    "        4) TFIDF-W2V\n",
    "        \n",
    "        "
   ]
  },
  {
   "cell_type": "markdown",
   "metadata": {},
   "source": [
    "##### Bag of words approach :\n",
    "\n",
    "We have class called CountVectorizer in scikit. Following is the syntax of constructor\n",
    "\n",
    "class sklearn.feature_extraction.text.CountVectorizer(input=’content’, encoding=’utf-8’, decode_error=’strict’, strip_accents=None, lowercase=True, preprocessor=None, tokenizer=None, stop_words=None, token_pattern=’(?u)\\b\\w\\w+\\b’, ngram_range=(1, 1), analyzer=’word’, max_df=1.0, min_df=1, max_features=None, vocabulary=None, binary=False, dtype=class ‘numpy.int64’ )\n",
    "\n",
    "http://scikit-learn.org/stable/modules/generated/sklearn.feature_extraction.text.CountVectorizer.html#sklearn.feature_extraction.text.CountVectorizer"
   ]
  },
  {
   "cell_type": "code",
   "execution_count": 33,
   "metadata": {},
   "outputs": [
    {
     "name": "stdout",
     "output_type": "stream",
     "text": [
      "Type of vectors:  <class 'scipy.sparse.csr.csr_matrix'>\n",
      "Shape of bag of words :  (3278, 7993)\n",
      "\n",
      " ['aaah', 'abil', 'abl', 'abound', 'abreast', 'abroad', 'absolut', 'absorb', 'absorpt', 'absurd', 'abund', 'abus', 'academi', 'acai', 'accel', 'accent', 'accept', 'access', 'accid', 'accident']\n"
     ]
    }
   ],
   "source": [
    "# Vectorizing the features using Bag of words\n",
    "\n",
    "from sklearn.feature_extraction.text import CountVectorizer\n",
    "\n",
    "countVec_model = CountVectorizer(stop_words='english')\n",
    "vectors = countVec_model.fit_transform(sample_data['CleanedText'].values)\n",
    "\n",
    "\n",
    "print(\"Type of vectors: \",type(vectors))\n",
    "print(\"Shape of bag of words : \",vectors.get_shape())\n",
    "\n",
    "features = countVec_model.get_feature_names()\n",
    "print(\"\\n\",features[:20]) # get first 20 features\n",
    "\n",
    "\n",
    "labels = sample_data['Score']\n",
    "dataset = vectors   # Actual data"
   ]
  },
  {
   "cell_type": "code",
   "execution_count": 16,
   "metadata": {},
   "outputs": [],
   "source": [
    "from sklearn.cross_validation import train_test_split\n",
    "from sklearn.neighbors import KNeighborsClassifier\n",
    "from sklearn.metrics import accuracy_score\n",
    "from sklearn.cross_validation import cross_val_score\n",
    "from collections import Counter\n",
    "from sklearn.metrics import accuracy_score\n",
    "from sklearn import cross_validation\n"
   ]
  },
  {
   "cell_type": "code",
   "execution_count": 18,
   "metadata": {},
   "outputs": [
    {
     "name": "stdout",
     "output_type": "stream",
     "text": [
      "Shape of dataset and lables :  ((3278, 7993), (3278,))\n",
      "Shape of X_train and y_train:   ((2622, 7993), (2622,))\n",
      "Shape of X_test and y_test:   ((656, 7993), (656,))\n",
      "Type of X_train and y_train :  (<class 'scipy.sparse.csr.csr_matrix'>, <class 'pandas.core.series.Series'>)\n"
     ]
    }
   ],
   "source": [
    "# Split data in train and test data set \n",
    "\n",
    "X_train,X_test,y_train,y_test = cross_validation.train_test_split(dataset,labels, test_size=0.2, random_state=0)\n",
    "\n",
    "\n",
    "print(\"Shape of dataset and lables : \",(dataset.shape,labels.shape))\n",
    "\n",
    "print(\"Shape of X_train and y_train:  \",(X_train.shape,y_train.shape))\n",
    "\n",
    "print(\"Shape of X_test and y_test:  \",(X_test.shape,y_test.shape))\n",
    "\n",
    "print(\"Type of X_train and y_train : \",(type(X_train),type(y_train)))\n",
    "\n",
    "X_train_dense = X_train.todense()\n",
    "X_test_dense = X_test.todense()"
   ]
  },
  {
   "cell_type": "markdown",
   "metadata": {},
   "source": [
    "#### KNN using brute force method"
   ]
  },
  {
   "cell_type": "code",
   "execution_count": 19,
   "metadata": {},
   "outputs": [
    {
     "name": "stdout",
     "output_type": "stream",
     "text": [
      "\n",
      "The optimal number of neighbors is : 17\n",
      "The misclassification error for each k value is :  [0.181 0.156 0.152 0.149 0.15  0.151 0.151 0.15  0.149 0.15  0.15  0.15\n",
      " 0.15  0.15  0.15  0.15  0.15  0.15  0.15  0.15  0.15  0.15  0.15  0.15\n",
      " 0.15 ]\n"
     ]
    }
   ],
   "source": [
    "# 10 fold cross validation for finding optimal k \n",
    "\n",
    "# creating odd list of K for KNN\n",
    "neighbors = [ x for x in range(0,50) if x % 2 != 0 ]\n",
    "\n",
    "# empty list that will hold cv scores\n",
    "cv_scores = []\n",
    "\n",
    "# perform 10-fold cross validation\n",
    "for k in neighbors:\n",
    "    knn = KNeighborsClassifier(n_neighbors=k,algorithm = 'brute')\n",
    "    scores = cross_val_score(knn, X_train, y_train, cv=10, scoring='accuracy')\n",
    "    cv_scores.append(scores.mean())\n",
    "\n",
    "# changing to misclassification error\n",
    "MSE = [1 - x for x in cv_scores]\n",
    "\n",
    "# determining best k\n",
    "optimal_k = neighbors[MSE.index(min(MSE))]\n",
    "print('\\nThe optimal number of neighbors is : %d' % optimal_k)\n",
    "\n",
    "print(\"The misclassification error for each k value is : \", np.round(MSE,3))"
   ]
  },
  {
   "cell_type": "code",
   "execution_count": 34,
   "metadata": {},
   "outputs": [
    {
     "data": {
      "image/png": "[encoded data removed]",
      "text/plain": [
       "<matplotlib.figure.Figure at 0x21bb4fb9fd0>"
      ]
     },
     "metadata": {},
     "output_type": "display_data"
    }
   ],
   "source": [
    "plt.plot(neighbors,MSE,marker=\"*\",color=\"orange\")  # first list is for x axis and second list is for y axis\n",
    "plt.ylabel(\"Misclassification Error\")\n",
    "plt.xlabel(\"k values\")\n",
    "plt.grid()\n",
    "plt.show()"
   ]
  },
  {
   "cell_type": "code",
   "execution_count": 22,
   "metadata": {},
   "outputs": [
    {
     "name": "stdout",
     "output_type": "stream",
     "text": [
      "\n",
      "The accuracy of the knn classifier for k = 17 is 85.823171 percent\n"
     ]
    }
   ],
   "source": [
    "# instantiate learning model k = optimal_k\n",
    "\n",
    "knn_optimal = KNeighborsClassifier(n_neighbors=optimal_k,algorithm = 'brute')\n",
    "\n",
    "# fitting the model\n",
    "knn_optimal.fit(X_train, y_train)\n",
    "\n",
    "# predict the response\n",
    "pred = knn_optimal.predict(X_test)\n",
    "\n",
    "# evaluate accuracy\n",
    "acc = accuracy_score(y_test, pred) * 100\n",
    "print('\\nThe accuracy of the knn classifier for k = %d is %f percent' % (optimal_k, acc))"
   ]
  },
  {
   "cell_type": "markdown",
   "metadata": {},
   "source": [
    "#### KNN using kd tree approach"
   ]
  },
  {
   "cell_type": "code",
   "execution_count": 25,
   "metadata": {},
   "outputs": [
    {
     "name": "stdout",
     "output_type": "stream",
     "text": [
      "\n",
      "The optimal number of neighbors is : 17\n",
      "The misclassification error for each k value is :  [0.185 0.159 0.154 0.15  0.15  0.151 0.151 0.149 0.148 0.15  0.15  0.15\n",
      " 0.15  0.15  0.15  0.15  0.15  0.15  0.15  0.15  0.15  0.15  0.15  0.15\n",
      " 0.15 ]\n"
     ]
    }
   ],
   "source": [
    "# 10 fold cross validation for finding optimal k \n",
    "\n",
    "# creating odd list of K for KNN\n",
    "neighbors = [ x for x in range(0,50) if x % 2 != 0 ]\n",
    "\n",
    "# empty list that will hold cv scores\n",
    "cv_scores = []\n",
    "\n",
    "# perform 10-fold cross validation\n",
    "for k in neighbors:\n",
    "    knn = KNeighborsClassifier(n_neighbors=k,algorithm = 'kd_tree')\n",
    "    scores = cross_val_score(knn, X_train.todense(), y_train, cv=10, scoring='accuracy')\n",
    "    cv_scores.append(scores.mean())\n",
    "\n",
    "# changing to misclassification error\n",
    "MSE = [1 - x for x in cv_scores]\n",
    "\n",
    "# determining best k\n",
    "optimal_k = neighbors[MSE.index(min(MSE))]\n",
    "print('\\nThe optimal number of neighbors is : %d' % optimal_k)\n",
    "\n",
    "print(\"The misclassification error for each k value is : \", np.round(MSE,3))"
   ]
  },
  {
   "cell_type": "code",
   "execution_count": 38,
   "metadata": {},
   "outputs": [
    {
     "data": {
      "image/png": "[encoded data removed]",
      "text/plain": [
       "<matplotlib.figure.Figure at 0x21b9702b1d0>"
      ]
     },
     "metadata": {},
     "output_type": "display_data"
    }
   ],
   "source": [
    "plt.plot(neighbors,MSE,marker=\"*\",color=\"green\")  # first list is for x axis and second list is for y axis\n",
    "plt.ylabel(\"Misclassification Error\")\n",
    "plt.xlabel(\"k values\")\n",
    "plt.grid()\n",
    "plt.show()"
   ]
  },
  {
   "cell_type": "code",
   "execution_count": 27,
   "metadata": {},
   "outputs": [
    {
     "name": "stdout",
     "output_type": "stream",
     "text": [
      "\n",
      "The accuracy of the knn classifier for k = 17 is 85.823171 percent\n"
     ]
    }
   ],
   "source": [
    "# instantiate learning model k = optimal_k\n",
    "\n",
    "knn_optimal = KNeighborsClassifier(n_neighbors=optimal_k,algorithm = 'kd_tree')\n",
    "\n",
    "# fitting the model\n",
    "knn_optimal.fit(X_train.todense(), y_train)\n",
    "\n",
    "# predict the response\n",
    "pred = knn_optimal.predict(X_test.todense())\n",
    "\n",
    "# evaluate accuracy\n",
    "acc = accuracy_score(y_test, pred) * 100\n",
    "print('\\nThe accuracy of the knn classifier for k = %d is %f percent' % (optimal_k, acc))"
   ]
  },
  {
   "cell_type": "markdown",
   "metadata": {},
   "source": [
    "##### Observations:\n",
    "* KNN using Bag of Words Feature Extraction has accuracy of 85.82% with hyper parameter or optimal k = 17.\n",
    "* Brute Force method took more time than the KD Tree approach while predicting the test data points."
   ]
  },
  {
   "cell_type": "markdown",
   "metadata": {},
   "source": [
    "#### TF-IDF (term frequency–inverse document frequency):"
   ]
  },
  {
   "cell_type": "code",
   "execution_count": 17,
   "metadata": {},
   "outputs": [
    {
     "name": "stdout",
     "output_type": "stream",
     "text": [
      "Type of vectors:  <class 'scipy.sparse.csr.csr_matrix'>\n",
      "Shape :  (3278, 120954)\n",
      "\n",
      " ['00', '00 am', '00 and', '00 at', '00 bag', '00 box', '00 br', '00 for', '00 here', '00 how', '00 item', '00 on', '00 or', '00 pass', '00 per', '00 that', '00 they', '00 this', '00 tin', '00 to']\n"
     ]
    }
   ],
   "source": [
    "# import required modules\n",
    "from sklearn.feature_extraction.text import TfidfTransformer\n",
    "from sklearn.feature_extraction.text import TfidfVectorizer\n",
    "\n",
    "tf_idf_vect = TfidfVectorizer(ngram_range=(1,2))\n",
    "vectors_tf_idf = tf_idf_vect.fit_transform(sample_data['Text'].values)\n",
    "\n",
    "print(\"Type of vectors: \",type(vectors_tf_idf))\n",
    "print(\"Shape : \",vectors_tf_idf.get_shape())\n",
    "\n",
    "features = tf_idf_vect.get_feature_names()\n",
    "print(\"\\n\",features[:20]) # get first 20 features\n",
    "\n",
    "\n",
    "labels = sample_data['Score']\n",
    "dataset = vectors_tf_idf   # Actual data\n",
    "\n"
   ]
  },
  {
   "cell_type": "code",
   "execution_count": 38,
   "metadata": {},
   "outputs": [
    {
     "name": "stdout",
     "output_type": "stream",
     "text": [
      "Shape of dataset and lables :  ((3278, 88628), (3278,))\n",
      "Shape of X_train and y_train:   ((2294, 88628), (2294,))\n",
      "Shape of X_test and y_test:   ((984, 88628), (984,))\n",
      "Type of X_train and y_train :  (<class 'scipy.sparse.csr.csr_matrix'>, <class 'pandas.core.series.Series'>)\n"
     ]
    }
   ],
   "source": [
    "# split data into train and test data set\n",
    "\n",
    "X_train,X_test,y_train,y_test = cross_validation.train_test_split(dataset,labels,test_size = 0.3,random_state = 0)\n",
    "\n",
    "print(\"Shape of dataset and lables : \",(dataset.shape,labels.shape))\n",
    "\n",
    "print(\"Shape of X_train and y_train:  \",(X_train.shape,y_train.shape))\n",
    "\n",
    "print(\"Shape of X_test and y_test:  \",(X_test.shape,y_test.shape))\n",
    "\n",
    "print(\"Type of X_train and y_train : \",(type(X_train),type(y_train)))\n"
   ]
  },
  {
   "cell_type": "code",
   "execution_count": 39,
   "metadata": {},
   "outputs": [
    {
     "name": "stdout",
     "output_type": "stream",
     "text": [
      "\n",
      "The optimal number of neighbors is : 11\n",
      "The misclassification error for each k value is :  [0.21  0.162 0.15  0.149 0.147 0.144 0.146 0.146 0.147 0.147 0.148 0.149\n",
      " 0.149 0.149 0.149 0.149 0.149 0.149 0.149 0.149 0.15  0.15  0.15  0.15\n",
      " 0.15 ]\n"
     ]
    }
   ],
   "source": [
    "# 10 fold cross vaalidation for finding optimal k \n",
    "\n",
    "# creating odd list of K for KNN\n",
    "neighbors = [ x for x in range(0,50) if x % 2 != 0 ]\n",
    "\n",
    "# empty list that will hold cv scores\n",
    "cv_scores = []\n",
    "\n",
    "# perform 10-fold cross validation\n",
    "for k in neighbors:\n",
    "    knn = KNeighborsClassifier(n_neighbors=k)\n",
    "    scores = cross_val_score(knn, X_train, y_train, cv=10, scoring='accuracy')\n",
    "    cv_scores.append(scores.mean())\n",
    "\n",
    "# changing to misclassification error\n",
    "MSE = [1 - x for x in cv_scores]\n",
    "\n",
    "# determining best k\n",
    "optimal_k = neighbors[MSE.index(min(MSE))]\n",
    "print('\\nThe optimal number of neighbors is : %d' % optimal_k)\n",
    "\n",
    "\n",
    "print(\"The misclassification error for each k value is : \", np.round(MSE,3))"
   ]
  },
  {
   "cell_type": "code",
   "execution_count": 39,
   "metadata": {},
   "outputs": [
    {
     "data": {
      "image/png": "[encoded data removed]",
      "text/plain": [
       "<matplotlib.figure.Figure at 0x21bb5becd68>"
      ]
     },
     "metadata": {},
     "output_type": "display_data"
    }
   ],
   "source": [
    "plt.plot(neighbors,MSE,marker=\"*\",color=\"blue\")  # first list is for x axis and second list is for y axis\n",
    "plt.ylabel(\"Misclassification Error\")\n",
    "plt.xlabel(\"k values\")\n",
    "plt.grid()\n",
    "plt.show()"
   ]
  },
  {
   "cell_type": "code",
   "execution_count": 40,
   "metadata": {},
   "outputs": [
    {
     "name": "stdout",
     "output_type": "stream",
     "text": [
      "\n",
      "The accuracy of the knn classifier for k = 11 is 86.382114 percent\n"
     ]
    }
   ],
   "source": [
    "# instantiate learning model k = optimal_k\n",
    "\n",
    "knn_optimal = KNeighborsClassifier(n_neighbors=optimal_k)\n",
    "\n",
    "# fitting the model\n",
    "knn_optimal.fit(X_train, y_train)\n",
    "\n",
    "# predict the response\n",
    "pred = knn_optimal.predict(X_test)\n",
    "\n",
    "# evaluate accuracy\n",
    "acc = accuracy_score(y_test, pred) * 100\n",
    "print('\\nThe accuracy of the knn classifier for k = %d is %f percent' % (optimal_k, acc))"
   ]
  },
  {
   "cell_type": "markdown",
   "metadata": {},
   "source": [
    "#### KD Tree Approach:"
   ]
  },
  {
   "cell_type": "code",
   "execution_count": 41,
   "metadata": {},
   "outputs": [
    {
     "name": "stdout",
     "output_type": "stream",
     "text": [
      "\n",
      "The optimal number of neighbors is : 11\n",
      "The misclassification error for each k value is :  [0.21  0.162 0.15  0.149 0.147 0.144 0.146 0.146 0.147 0.147 0.148 0.149\n",
      " 0.149 0.149 0.149 0.149 0.149 0.149 0.149 0.149 0.15  0.15  0.15  0.15\n",
      " 0.15 ]\n"
     ]
    }
   ],
   "source": [
    "# 10 fold cross validation for finding optimal k \n",
    "\n",
    "# creating odd list of K for KNN\n",
    "neighbors = [ x for x in range(0,50) if x % 2 != 0 ]\n",
    "\n",
    "# empty list that will hold cv scores\n",
    "cv_scores = []\n",
    "\n",
    "# perform 10-fold cross validation\n",
    "for k in neighbors:\n",
    "    knn = KNeighborsClassifier(n_neighbors=k,algorithm = 'kd_tree')\n",
    "    scores = cross_val_score(knn, X_train.todense(), y_train, cv=10, scoring='accuracy')\n",
    "    cv_scores.append(scores.mean())\n",
    "\n",
    "# changing to misclassification error\n",
    "MSE = [1 - x for x in cv_scores]\n",
    "\n",
    "# determining best k\n",
    "optimal_k = neighbors[MSE.index(min(MSE))]\n",
    "print('\\nThe optimal number of neighbors is : %d' % optimal_k)\n",
    "\n",
    "print(\"The misclassification error for each k value is : \", np.round(MSE,3))"
   ]
  },
  {
   "cell_type": "code",
   "execution_count": 41,
   "metadata": {},
   "outputs": [
    {
     "data": {
      "image/png": "[encoded data removed]",
      "text/plain": [
       "<matplotlib.figure.Figure at 0x21b9e6a98d0>"
      ]
     },
     "metadata": {},
     "output_type": "display_data"
    }
   ],
   "source": [
    "plt.plot(neighbors,MSE,marker=\"*\",color=\"red\")  # first list is for x axis and second list is for y axis\n",
    "plt.ylabel(\"Misclassification Error\")\n",
    "plt.xlabel(\"k values\")\n",
    "plt.grid()\n",
    "plt.show()"
   ]
  },
  {
   "cell_type": "code",
   "execution_count": 43,
   "metadata": {},
   "outputs": [
    {
     "name": "stdout",
     "output_type": "stream",
     "text": [
      "\n",
      "The accuracy of the knn classifier for k = 11 is 86.382114 percent\n"
     ]
    }
   ],
   "source": [
    "# instantiate learning model k = optimal_k\n",
    "\n",
    "knn_optimal = KNeighborsClassifier(n_neighbors=optimal_k,algorithm = 'kd_tree')\n",
    "\n",
    "# fitting the model\n",
    "knn_optimal.fit(X_train.todense(), y_train)\n",
    "\n",
    "# predict the response\n",
    "pred = knn_optimal.predict(X_test.todense())\n",
    "\n",
    "# evaluate accuracy\n",
    "acc = accuracy_score(y_test, pred) * 100\n",
    "print('\\nThe accuracy of the knn classifier for k = %d is %f percent' % (optimal_k, acc))"
   ]
  },
  {
   "cell_type": "markdown",
   "metadata": {},
   "source": [
    "##### Observations:\n",
    "* KNN using TF-IDF Feature Extraction has accuracy of 86.38% with hyper parameter or optimal k = 11.\n",
    "* Brute Force method took more time than the KD Tree approach while predicting the test data points."
   ]
  },
  {
   "cell_type": "markdown",
   "metadata": {},
   "source": [
    "#### Feature Extraction : AvgW2vec"
   ]
  },
  {
   "cell_type": "code",
   "execution_count": 19,
   "metadata": {},
   "outputs": [
    {
     "name": "stdout",
     "output_type": "stream",
     "text": [
      "I'm never dissapointed with the great gadgets this company comes out with. My brother picked up the new Concerto for me and it is absolutely awesome! My wife likes whites and I like reds, so the 2 stoppers really come in handy. Also, I love the new clicking sound it makes when the vacuum is at the correct level. Neat design, great looking gift, the absolute best invention for saving wines.\n",
      "------------------------------------------------------------------------------------\n",
      "['im', 'never', 'dissapointed', 'with', 'the', 'great', 'gadgets', 'this', 'company', 'comes', 'out', 'with', 'my', 'brother', 'picked', 'up', 'the', 'new', 'concerto', 'for', 'me', 'and', 'it', 'is', 'absolutely', 'awesome', 'my', 'wife', 'likes', 'whites', 'and', 'i', 'like', 'reds', 'so', 'the', 'stoppers', 'really', 'come', 'in', 'handy', 'also', 'i', 'love', 'the', 'new', 'clicking', 'sound', 'it', 'makes', 'when', 'the', 'vacuum', 'is', 'at', 'the', 'correct', 'level', 'neat', 'design', 'great', 'looking', 'gift', 'the', 'absolute', 'best', 'invention', 'for', 'saving', 'wines']\n"
     ]
    }
   ],
   "source": [
    "i=0\n",
    "list_of_sent=[]\n",
    "for sent in sample_data['Text'].values:\n",
    "    filtered_sentence=[]\n",
    "    sent=cleanhtml(sent)\n",
    "    for w in sent.split():\n",
    "        for cleaned_words in cleanpunc(w).split():\n",
    "            if(cleaned_words.isalpha()):    \n",
    "                filtered_sentence.append(cleaned_words.lower())\n",
    "            else:\n",
    "                continue \n",
    "    list_of_sent.append(filtered_sentence)\n",
    "\n",
    "print(sample_data['Text'].values[1])\n",
    "print(\"------------------------------------------------------------------------------------\")\n",
    "print(list_of_sent[1])\n",
    "\n"
   ]
  },
  {
   "cell_type": "markdown",
   "metadata": {},
   "source": [
    "#### Feature Extraction using Avg Word2vec\n",
    "\n",
    "Syntax:\n",
    "class gensim.models.word2vec.Word2Vec(sentences=None, size=100, alpha=0.025, window=5, min_count=5, max_vocab_size=None, sample=0.001, seed=1, workers=3, min_alpha=0.0001, sg=0, hs=0, negative=5, cbow_mean=1, hashfxn=<built-in function hash>, iter=5, null_word=0, trim_rule=None, sorted_vocab=1, batch_words=10000, compute_loss=False, callbacks=())\n",
    "\n",
    "Here size indicates number of features we want"
   ]
  },
  {
   "cell_type": "code",
   "execution_count": 21,
   "metadata": {},
   "outputs": [
    {
     "data": {
      "text/plain": [
       "[('pretty', 0.9945555925369263),\n",
       " ('well', 0.9942581653594971),\n",
       " ('smooth', 0.990772008895874),\n",
       " ('strong', 0.9906314611434937),\n",
       " ('nutty', 0.9899477958679199),\n",
       " ('overpowering', 0.9881852865219116),\n",
       " ('salty', 0.9880739450454712),\n",
       " ('texture', 0.9879239797592163),\n",
       " ('delicious', 0.987364649772644),\n",
       " ('rich', 0.9865464568138123)]"
      ]
     },
     "execution_count": 21,
     "metadata": {},
     "output_type": "execute_result"
    }
   ],
   "source": [
    "# Train your own Word2Vec model using your own text corpus\n",
    "import gensim\n",
    "\n",
    "w2v_model=gensim.models.Word2Vec(list_of_sent,min_count=5,size=300, workers=4) \n",
    "\n",
    "w2v_model.wv.most_similar('tasty')"
   ]
  },
  {
   "cell_type": "code",
   "execution_count": 13,
   "metadata": {},
   "outputs": [
    {
     "name": "stdout",
     "output_type": "stream",
     "text": [
      "[ 5.25625128e-02 -8.14693503e-02  6.06883931e-02  8.26836290e-02\n",
      "  7.17291796e-02 -1.82958794e-01 -7.08297589e-02  1.49056045e-01\n",
      "  6.95279131e-02 -1.08957866e-01  9.31790814e-02 -5.25769086e-02\n",
      "  1.92632052e-01  4.71215247e-02 -1.17906090e-01  1.00446533e-01\n",
      "  1.92376492e-01  1.10568363e-02 -1.15295123e-01 -5.75953993e-02\n",
      "  2.89442555e-02 -8.81179823e-02  1.62205057e-01  2.11159865e-02\n",
      "  8.89449816e-02 -1.82774960e-01 -1.18032523e-01 -2.70026444e-01\n",
      "  6.96176336e-02  1.56161765e-01 -8.41796388e-02  2.23614261e-02\n",
      " -9.35770414e-02 -2.11037657e-02  2.27613540e-01  2.31516144e-01\n",
      " -2.24751606e-02 -4.57658012e-02  6.41875734e-02 -1.48674728e-01\n",
      "  1.06650934e-01 -9.65585656e-03  5.83298406e-02 -7.27818232e-02\n",
      "  4.00497114e-02  4.29814116e-02  1.99675186e-01 -2.91854803e-01\n",
      "  1.53772073e-01  2.39569463e-01  6.01733203e-03 -1.68024315e-01\n",
      " -6.27241272e-02  9.68150295e-03 -6.53248814e-02  1.74050824e-01\n",
      "  9.30717031e-02  2.08790401e-01 -1.69059560e-01  3.97508697e-02\n",
      "  2.15151842e-02  3.82144770e-02  1.73287716e-01 -1.34398355e-02\n",
      " -5.02815333e-02 -1.52584073e-01  7.82943556e-02  6.34592785e-02\n",
      "  2.23015851e-01  9.21622368e-02 -1.96974430e-01 -5.56616640e-02\n",
      "  2.34146948e-01  8.40953430e-02  1.78483438e-01 -8.56618748e-02\n",
      " -6.81964561e-02  3.40752819e-02  2.12008114e-02 -2.14037641e-01\n",
      " -1.46196201e-01 -1.13620325e-03 -1.12786274e-01 -5.71883214e-02\n",
      " -2.56189353e-01 -2.93393454e-01  1.23500715e-01  1.73099338e-01\n",
      "  2.35775695e-02 -1.43818761e-01  1.15920337e-01  2.01316846e-01\n",
      " -2.90705079e-01 -1.14827694e-01  9.21726490e-02 -1.41842915e-01\n",
      " -1.97478965e-01  1.92724145e-01  9.25429527e-02 -2.87053879e-02\n",
      " -1.83969652e-01  2.89549540e-01 -1.35976931e-01 -1.34418866e-04\n",
      "  9.13400320e-02  2.66157915e-01  3.06775787e-01  6.25619888e-03\n",
      "  3.55351091e-02 -8.52356132e-02  1.32738643e-01 -1.66822187e-01\n",
      " -1.49465905e-01  1.73619115e-01  3.67820932e-01 -8.12780291e-03\n",
      " -1.14404952e-02  2.14238680e-01 -1.92588744e-02  6.43250762e-03\n",
      " -1.74760108e-01 -2.61472179e-01  6.68805951e-02  1.38597819e-01\n",
      " -5.05361100e-02  1.55685467e-01  2.08477822e-02 -2.53140002e-02\n",
      "  8.83799401e-02 -1.75057588e-01  5.52718682e-02  5.60526109e-02\n",
      "  4.91243233e-02 -1.57459237e-02  7.44692214e-02 -4.50476778e-02\n",
      "  1.32689814e-01 -2.62232523e-01  7.23694132e-02  5.33285499e-02\n",
      " -3.36107301e-01  1.89780725e-01 -1.76765241e-03 -1.36495198e-01\n",
      "  6.50277380e-02 -6.06520222e-03 -1.23427959e-01 -2.02003774e-01\n",
      " -3.32166173e-01  1.67097559e-01  1.19573311e-01  6.81365340e-02\n",
      "  9.02269976e-02 -1.34522299e-01  2.34504224e-02 -2.63398807e-01\n",
      " -4.24417894e-02  2.49319081e-02  2.21111720e-01 -1.11438940e-02\n",
      " -2.32348838e-01 -1.54125748e-01  7.30211066e-02 -2.04424241e-01\n",
      "  5.93142766e-02 -1.71441240e-03  1.51588872e-02  7.37813122e-02\n",
      "  1.79830999e-01 -5.62022076e-02  1.49033218e-01 -2.65505361e-02\n",
      " -4.07822454e-02  9.21708006e-02  8.31163222e-02  2.60852340e-02\n",
      "  1.01572244e-01  9.93330764e-02  1.49051925e-02 -5.32728753e-02\n",
      " -2.76053280e-01 -1.40762006e-02  1.13616764e-01 -1.40462608e-02\n",
      " -1.04988648e-01  2.20515234e-01  1.63683726e-02 -4.50342408e-02\n",
      " -8.48915336e-03  2.79614215e-02 -1.12513772e-02  9.18935024e-02\n",
      "  5.56785695e-02  1.36957127e-01  2.62876615e-02  1.75512013e-01\n",
      "  2.34099861e-01 -2.00141584e-01 -5.10078254e-02 -1.05828139e-01\n",
      "  3.42338567e-03  1.41726607e-01 -1.52563733e-01 -6.29146215e-02\n",
      "  6.13943781e-02 -1.01948992e-01 -4.66659567e-02  6.16329023e-02\n",
      "  5.52575360e-02 -1.88168425e-01 -2.21929986e-02  1.90453042e-03\n",
      "  2.14646156e-01 -3.27840091e-01 -1.33644583e-01  2.14687515e-01\n",
      "  1.06273053e-01 -1.28190344e-02 -5.16494484e-02 -1.48719787e-01\n",
      " -1.65144882e-01  8.06680341e-02 -7.19639780e-02 -7.56599587e-02\n",
      " -1.01664955e-01 -1.56524913e-01 -1.67602453e-01 -8.10763910e-02\n",
      "  7.62014269e-02 -1.91778462e-01  3.77448535e-02 -1.10256732e-01\n",
      "  8.08815703e-02 -1.10273519e-01  1.57172637e-01  7.80450799e-02\n",
      "  3.46530474e-02  2.53095791e-01 -6.27348972e-02  1.11744134e-01\n",
      " -7.77647166e-02 -1.20532440e-01  2.11928451e-01  1.00451568e-01\n",
      " -1.23955486e-01 -1.22633712e-01  2.84767688e-01  3.61541146e-01\n",
      "  1.69858917e-01 -2.52003791e-01  8.26527133e-03 -1.43255943e-01\n",
      "  2.23330921e-01 -1.22499862e-01 -2.59081535e-01 -3.20879458e-02\n",
      " -8.53928194e-02 -5.78877328e-02 -1.47693722e-01  1.36478899e-01\n",
      "  1.88522596e-01  5.66173100e-02 -4.40906722e-01  4.14314646e-01\n",
      "  9.21998778e-02  5.86103478e-02  1.71108318e-01  4.43047185e-02\n",
      "  2.07887723e-01  2.86147498e-01 -5.29250922e-02 -2.02818837e-02\n",
      " -1.99824861e-01  1.32730163e-02 -1.26302782e-01  1.21343501e-01\n",
      " -1.78592992e-01 -4.23176907e-02  9.96885224e-02 -2.18879528e-01\n",
      "  3.09617074e-01  4.78574968e-02  1.52862289e-01  9.54384347e-02\n",
      "  4.57270513e-03 -3.57676219e-02  1.55367328e-01 -4.39001888e-03\n",
      " -1.33950521e-01  4.30624843e-02  6.64923593e-02 -1.40699820e-01\n",
      "  1.23678715e-01 -1.71980766e-02 -4.94183628e-03  6.31753394e-02\n",
      "  3.51811735e-02 -2.28919219e-01  8.82130152e-03 -3.32825429e-01]\n"
     ]
    }
   ],
   "source": [
    "# compute average word2vec for each review.\n",
    "sent_vectors = []; # the avg-w2v for each sentence/review is stored in this list\n",
    "for sent in list_of_sent: # for each review/sentence\n",
    "    sent_vec = np.zeros(300) # as word vectors are of zero length\n",
    "    cnt_words =0; # num of words with a valid vector in the sentence/review\n",
    "    for word in sent: # for each word in a review/sentence\n",
    "        try:\n",
    "            vec = w2v_model.wv[word]\n",
    "            sent_vec += vec\n",
    "            cnt_words += 1\n",
    "        except:\n",
    "            pass\n",
    "    sent_vec /= cnt_words\n",
    "    sent_vectors.append(sent_vec)\n",
    "# print(len(sent_vectors))\n",
    "# print(len(sent_vectors[0]))\n",
    "print(sent_vectors[0])\n",
    "\n"
   ]
  },
  {
   "cell_type": "code",
   "execution_count": 19,
   "metadata": {},
   "outputs": [
    {
     "name": "stdout",
     "output_type": "stream",
     "text": [
      "Shape of X and y :  (3278, 3278)\n",
      "Shape of X_train_w2vec and y_train_w2vec:   (2294, (2294,))\n",
      "Shape of X_test_w2vec and y_test_w2vec:   (984, (984,))\n",
      "Type of X_train_w2vec and y_train_w2vec :  (<class 'list'>, <class 'pandas.core.series.Series'>)\n"
     ]
    }
   ],
   "source": [
    "X = sent_vectors\n",
    "y = sample_data['Score']\n",
    "\n",
    "# split data into train and test data set\n",
    "\n",
    "X_train_w2vec,X_test_w2vec,y_train_w2vec,y_test_w2vec = cross_validation.train_test_split(X,y,test_size = 0.3,random_state = 0)\n",
    "\n",
    "print(\"Shape of X and y : \",(len(X),len(y)))\n",
    "\n",
    "print(\"Shape of X_train_w2vec and y_train_w2vec:  \",(len(X_train_w2vec),y_train_w2vec.shape))\n",
    "\n",
    "print(\"Shape of X_test_w2vec and y_test_w2vec:  \",(len(X_test_w2vec),y_test_w2vec.shape))\n",
    "\n",
    "print(\"Type of X_train_w2vec and y_train_w2vec : \",(type(X_train_w2vec),type(y_train_w2vec)))"
   ]
  },
  {
   "cell_type": "markdown",
   "metadata": {},
   "source": [
    "#### KNN using brute force method : Avg W2vec"
   ]
  },
  {
   "cell_type": "code",
   "execution_count": 20,
   "metadata": {},
   "outputs": [
    {
     "name": "stdout",
     "output_type": "stream",
     "text": [
      "\n",
      "The optimal number of neighbors is : 21\n",
      "The misclassification error for each k value is :  [0.25  0.195 0.167 0.161 0.158 0.153 0.152 0.151 0.151 0.151 0.15  0.15\n",
      " 0.15  0.15  0.15  0.15  0.15  0.15  0.15  0.15  0.15  0.15  0.15  0.15\n",
      " 0.15 ]\n"
     ]
    }
   ],
   "source": [
    "# 10 fold cross vaalidation for finding optimal k \n",
    "\n",
    "# creating odd list of K for KNN\n",
    "neighbors = [ x for x in range(0,50) if x % 2 != 0 ]\n",
    "\n",
    "# empty list that will hold cv scores\n",
    "cv_scores = []\n",
    "\n",
    "# perform 10-fold cross validation\n",
    "for k in neighbors:\n",
    "    knn = KNeighborsClassifier(n_neighbors=k,algorithm = 'brute')\n",
    "    scores = cross_val_score(knn, X_train_w2vec, y_train_w2vec, cv=10, scoring='accuracy')\n",
    "    cv_scores.append(scores.mean())\n",
    "\n",
    "# changing to misclassification error\n",
    "MSE = [1 - x for x in cv_scores]\n",
    "\n",
    "# determining best k\n",
    "optimal_k = neighbors[MSE.index(min(MSE))]\n",
    "print('\\nThe optimal number of neighbors is : %d' % optimal_k)\n",
    "\n",
    "\n",
    "print(\"The misclassification error for each k value is : \", np.round(MSE,3))"
   ]
  },
  {
   "cell_type": "code",
   "execution_count": 21,
   "metadata": {},
   "outputs": [
    {
     "data": {
      "image/png": "[encoded data removed]",
      "text/plain": [
       "<matplotlib.figure.Figure at 0x1fb18e04160>"
      ]
     },
     "metadata": {},
     "output_type": "display_data"
    }
   ],
   "source": [
    "plt.plot(neighbors,MSE,marker=\"*\",color=\"blue\")  # first list is for x axis and second list is for y axis\n",
    "plt.ylabel(\"Misclassification Error\")\n",
    "plt.xlabel(\"k values\")\n",
    "plt.grid()\n",
    "plt.show()"
   ]
  },
  {
   "cell_type": "code",
   "execution_count": 23,
   "metadata": {},
   "outputs": [
    {
     "name": "stdout",
     "output_type": "stream",
     "text": [
      "\n",
      "The accuracy of the knn classifier for k = 21 is 85.365854 percent\n"
     ]
    }
   ],
   "source": [
    "# instantiate learning model k = optimal_k\n",
    "knn_optimal = KNeighborsClassifier(n_neighbors=optimal_k,algorithm = 'brute')\n",
    "\n",
    "# fitting the model\n",
    "knn_optimal.fit(X_train_w2vec, y_train_w2vec)\n",
    "\n",
    "# predict the response\n",
    "pred = knn_optimal.predict(X_test_w2vec)\n",
    "\n",
    "# evaluate accuracy\n",
    "acc = accuracy_score(y_test_w2vec, pred) * 100\n",
    "print('\\nThe accuracy of the knn classifier for k = %d is %f percent' % (optimal_k, acc))"
   ]
  },
  {
   "cell_type": "markdown",
   "metadata": {},
   "source": [
    "#### KNN using kd tree approach : AvgWord2Vec"
   ]
  },
  {
   "cell_type": "code",
   "execution_count": 27,
   "metadata": {},
   "outputs": [
    {
     "name": "stdout",
     "output_type": "stream",
     "text": [
      "\n",
      "The optimal number of neighbors is : 21\n",
      "The misclassification error for each k value is :  [0.25  0.195 0.167 0.161 0.158 0.153 0.152 0.151 0.151 0.151 0.15  0.15\n",
      " 0.15  0.15  0.15  0.15  0.15  0.15  0.15  0.15  0.15  0.15  0.15  0.15\n",
      " 0.15 ]\n"
     ]
    }
   ],
   "source": [
    "# 10 fold cross validation for finding optimal k \n",
    "\n",
    "# creating odd list of K for KNN\n",
    "neighbors = [ x for x in range(0,50) if x % 2 != 0 ]\n",
    "\n",
    "# empty list that will hold cv scores\n",
    "cv_scores = []\n",
    "\n",
    "# perform 10-fold cross validation\n",
    "for k in neighbors:\n",
    "    knn = KNeighborsClassifier(n_neighbors=k,algorithm = 'kd_tree')\n",
    "    scores = cross_val_score(knn, X_train_w2vec, y_train_w2vec, cv=10, scoring='accuracy')\n",
    "    cv_scores.append(scores.mean())\n",
    "\n",
    "# changing to misclassification error\n",
    "MSE = [1 - x for x in cv_scores]\n",
    "\n",
    "# determining best k\n",
    "optimal_k = neighbors[MSE.index(min(MSE))]\n",
    "print('\\nThe optimal number of neighbors is : %d' % optimal_k)\n",
    "\n",
    "print(\"The misclassification error for each k value is : \", np.round(MSE,3))"
   ]
  },
  {
   "cell_type": "code",
   "execution_count": 28,
   "metadata": {},
   "outputs": [
    {
     "data": {
      "image/png": "[encoded data removed]",
      "text/plain": [
       "<matplotlib.figure.Figure at 0x1fb18e9ff98>"
      ]
     },
     "metadata": {},
     "output_type": "display_data"
    }
   ],
   "source": [
    "plt.plot(neighbors,MSE,marker=\"*\",color=\"orange\")  # first list is for x axis and second list is for y axis\n",
    "plt.ylabel(\"Misclassification Error\")\n",
    "plt.xlabel(\"k values\")\n",
    "plt.grid()\n",
    "plt.show()"
   ]
  },
  {
   "cell_type": "code",
   "execution_count": 29,
   "metadata": {},
   "outputs": [
    {
     "name": "stdout",
     "output_type": "stream",
     "text": [
      "\n",
      "The accuracy of the knn classifier for k = 21 is 85.365854 percent\n"
     ]
    }
   ],
   "source": [
    "# instantiate learning model k = optimal_k\n",
    "\n",
    "knn_optimal = KNeighborsClassifier(n_neighbors=optimal_k,algorithm = 'kd_tree')\n",
    "\n",
    "# fitting the model\n",
    "knn_optimal.fit(X_train_w2vec, y_train_w2vec)\n",
    "\n",
    "# predict the response\n",
    "pred2_w2vec = knn_optimal.predict(X_test_w2vec)\n",
    "\n",
    "# evaluate accuracy\n",
    "acc = accuracy_score(y_test_w2vec, pred2_w2vec) * 100\n",
    "print('\\nThe accuracy of the knn classifier for k = %d is %f percent' % (optimal_k, acc))"
   ]
  },
  {
   "cell_type": "markdown",
   "metadata": {},
   "source": [
    "##### Observations:\n",
    "* KNN using Avg W2Vec Feature Extraction has accuracy of 85.36% with hyper parameter or optimal k = 21.\n",
    "* Brute Force method took more time than the KD Tree approach while predicting the test data points."
   ]
  },
  {
   "cell_type": "markdown",
   "metadata": {},
   "source": [
    "#### Feature Extraction : TF-IDF weighted Word2Vec"
   ]
  },
  {
   "cell_type": "code",
   "execution_count": 22,
   "metadata": {},
   "outputs": [],
   "source": [
    "tf_idf_vect = TfidfVectorizer(ngram_range=(1,2))\n",
    "final_tf_idf = tf_idf_vect.fit_transform(sample_data['Text'].values)"
   ]
  },
  {
   "cell_type": "code",
   "execution_count": 23,
   "metadata": {},
   "outputs": [],
   "source": [
    "tfidf_feat = tf_idf_vect.get_feature_names() # tfidf words/col-names\n",
    "\n",
    "# vectors_tf_idf is the sparse matrix with row= sentence, col=word and cell_val = tfidf\n",
    "tfidf_sent_vectors = []; # the tfidf-w2v for each sentence/review is stored in this list\n",
    "row=0;\n",
    "for sent in list_of_sent: # for each review/sentence\n",
    "    sent_vec = np.zeros(300) # as word vectors are of zero length\n",
    "    weight_sum =0; # num of words with a valid vector in the sentence/review\n",
    "    for word in sent: # for each word in a review/sentence\n",
    "        try:\n",
    "            vec = w2v_model.wv[word]\n",
    "            # obtain the tf_idfidf of a word in a sentence/review\n",
    "            tfidf = final_tf_idf[row, tfidf_feat.index(word)]\n",
    "            sent_vec += (vec * tfidf)\n",
    "            weight_sum += tfidf\n",
    "        except:\n",
    "            pass\n",
    "    sent_vec /= weight_sum\n",
    "    tfidf_sent_vectors.append(sent_vec)\n",
    "    row += 1"
   ]
  },
  {
   "cell_type": "code",
   "execution_count": 24,
   "metadata": {},
   "outputs": [
    {
     "name": "stdout",
     "output_type": "stream",
     "text": [
      "Shape of X and y :  (3278, 3278)\n",
      "Shape of X_train_tfidfw2vec and y_train_tfidfw2vec:   (2294, (2294,))\n",
      "Shape of X_test_tfidfw2vec and y_test_tfidfw2vec:   (984, (984,))\n",
      "Type of X_train_tfidfw2vec and y_train_tfidfw2vec :  (<class 'list'>, <class 'pandas.core.series.Series'>)\n"
     ]
    }
   ],
   "source": [
    "X = tfidf_sent_vectors\n",
    "y = sample_data['Score']\n",
    "\n",
    "# split data into train and test data set\n",
    "\n",
    "X_train_tfidfw2vec,X_test_tfidfw2vec,y_train_tfidfw2vec,y_test_tfidfw2vec = cross_validation.train_test_split(X,y,test_size = 0.3,random_state = 0)\n",
    "\n",
    "print(\"Shape of X and y : \",(len(X),len(y)))\n",
    "\n",
    "print(\"Shape of X_train_tfidfw2vec and y_train_tfidfw2vec:  \",(len(X_train_tfidfw2vec),y_train_tfidfw2vec.shape))\n",
    "\n",
    "print(\"Shape of X_test_tfidfw2vec and y_test_tfidfw2vec:  \",(len(X_test_tfidfw2vec),y_test_tfidfw2vec.shape))\n",
    "\n",
    "print(\"Type of X_train_tfidfw2vec and y_train_tfidfw2vec : \",(type(X_train_tfidfw2vec),type(y_train_tfidfw2vec)))"
   ]
  },
  {
   "cell_type": "markdown",
   "metadata": {},
   "source": [
    "#### KNN using brute force method: TF-IDF weighted Word2Vec"
   ]
  },
  {
   "cell_type": "code",
   "execution_count": 25,
   "metadata": {},
   "outputs": [
    {
     "name": "stdout",
     "output_type": "stream",
     "text": [
      "\n",
      "The optimal number of neighbors is : 19\n",
      "The misclassification error for each k value is :  [0.258 0.193 0.17  0.16  0.155 0.154 0.152 0.151 0.151 0.15  0.15  0.15\n",
      " 0.15  0.15  0.15  0.15  0.15  0.15  0.15  0.15  0.15  0.15  0.15  0.15\n",
      " 0.15 ]\n"
     ]
    }
   ],
   "source": [
    "# 10 fold cross vaalidation for finding optimal k \n",
    "\n",
    "# creating odd list of K for KNN\n",
    "neighbors = [ x for x in range(0,50) if x % 2 != 0 ]\n",
    "\n",
    "# empty list that will hold cv scores\n",
    "cv_scores = []\n",
    "\n",
    "# perform 10-fold cross validation\n",
    "for k in neighbors:\n",
    "    knn = KNeighborsClassifier(n_neighbors=k,algorithm = 'brute')\n",
    "    scores = cross_val_score(knn,X_train_tfidfw2vec,y_train_tfidfw2vec, cv=10, scoring='accuracy')\n",
    "    cv_scores.append(scores.mean())\n",
    "\n",
    "# changing to misclassification error\n",
    "MSE = [1 - x for x in cv_scores]\n",
    "\n",
    "# determining best k\n",
    "optimal_k = neighbors[MSE.index(min(MSE))]\n",
    "print('\\nThe optimal number of neighbors is : %d' % optimal_k)\n",
    "\n",
    "\n",
    "print(\"The misclassification error for each k value is : \", np.round(MSE,3))"
   ]
  },
  {
   "cell_type": "code",
   "execution_count": 26,
   "metadata": {},
   "outputs": [
    {
     "data": {
      "image/png": "[encoded data removed]",
      "text/plain": [
       "<matplotlib.figure.Figure at 0x21bb581bf98>"
      ]
     },
     "metadata": {},
     "output_type": "display_data"
    }
   ],
   "source": [
    "plt.plot(neighbors,MSE,marker=\"*\",color=\"blue\")  # first list is for x axis and second list is for y axis\n",
    "plt.ylabel(\"Misclassification Error\")\n",
    "plt.xlabel(\"k values\")\n",
    "plt.grid()\n",
    "plt.show()"
   ]
  },
  {
   "cell_type": "code",
   "execution_count": 27,
   "metadata": {},
   "outputs": [
    {
     "name": "stdout",
     "output_type": "stream",
     "text": [
      "\n",
      "The accuracy of the knn classifier for k = 19 is 85.467480 percent\n"
     ]
    }
   ],
   "source": [
    "# instantiate learning model k = optimal_k\n",
    "knn_optimal = KNeighborsClassifier(n_neighbors=optimal_k,algorithm = 'brute')\n",
    "\n",
    "# fitting the model\n",
    "knn_optimal.fit(X_train_tfidfw2vec,y_train_tfidfw2vec)\n",
    "\n",
    "# predict the response\n",
    "pred = knn_optimal.predict(X_test_tfidfw2vec)\n",
    "\n",
    "# evaluate accuracy\n",
    "acc = accuracy_score(y_test_tfidfw2vec, pred) * 100\n",
    "print('\\nThe accuracy of the knn classifier for k = %d is %f percent' % (optimal_k, acc))"
   ]
  },
  {
   "cell_type": "markdown",
   "metadata": {},
   "source": [
    "#### KNN using kd tree approach : TF-IDF weighted Word2Vec"
   ]
  },
  {
   "cell_type": "code",
   "execution_count": 28,
   "metadata": {},
   "outputs": [
    {
     "name": "stdout",
     "output_type": "stream",
     "text": [
      "\n",
      "The optimal number of neighbors is : 19\n",
      "The misclassification error for each k value is :  [0.258 0.193 0.17  0.16  0.155 0.154 0.152 0.151 0.151 0.15  0.15  0.15\n",
      " 0.15  0.15  0.15  0.15  0.15  0.15  0.15  0.15  0.15  0.15  0.15  0.15\n",
      " 0.15 ]\n"
     ]
    }
   ],
   "source": [
    "# 10 fold cross validation for finding optimal k \n",
    "\n",
    "# creating odd list of K for KNN\n",
    "neighbors = [ x for x in range(0,50) if x % 2 != 0 ]\n",
    "\n",
    "# empty list that will hold cv scores\n",
    "cv_scores = []\n",
    "\n",
    "# perform 10-fold cross validation\n",
    "for k in neighbors:\n",
    "    knn = KNeighborsClassifier(n_neighbors=k,algorithm = 'kd_tree')\n",
    "    scores = cross_val_score(knn,X_train_tfidfw2vec,y_train_tfidfw2vec, cv=10, scoring='accuracy')\n",
    "    cv_scores.append(scores.mean())\n",
    "\n",
    "# changing to misclassification error\n",
    "MSE = [1 - x for x in cv_scores]\n",
    "\n",
    "# determining best k\n",
    "optimal_k = neighbors[MSE.index(min(MSE))]\n",
    "print('\\nThe optimal number of neighbors is : %d' % optimal_k)\n",
    "\n",
    "print(\"The misclassification error for each k value is : \", np.round(MSE,3))"
   ]
  },
  {
   "cell_type": "code",
   "execution_count": 29,
   "metadata": {},
   "outputs": [
    {
     "data": {
      "image/png": "[encoded data removed]",
      "text/plain": [
       "<matplotlib.figure.Figure at 0x21bb886e5f8>"
      ]
     },
     "metadata": {},
     "output_type": "display_data"
    }
   ],
   "source": [
    "plt.plot(neighbors,MSE,marker=\"*\",color=\"orange\")  # first list is for x axis and second list is for y axis\n",
    "plt.ylabel(\"Misclassification Error\")\n",
    "plt.xlabel(\"k values\")\n",
    "plt.grid()\n",
    "plt.show()"
   ]
  },
  {
   "cell_type": "code",
   "execution_count": 30,
   "metadata": {},
   "outputs": [
    {
     "name": "stdout",
     "output_type": "stream",
     "text": [
      "\n",
      "The accuracy of the knn classifier for k = 19 is 85.467480 percent\n"
     ]
    }
   ],
   "source": [
    "knn_optimal = KNeighborsClassifier(n_neighbors=k,algorithm = 'kd_tree')\n",
    "\n",
    "# fitting the model\n",
    "knn_optimal.fit(X_train_tfidfw2vec,y_train_tfidfw2vec)\n",
    "\n",
    "# predict the response\n",
    "pred = knn_optimal.predict(X_test_tfidfw2vec)\n",
    "\n",
    "# evaluate accuracy\n",
    "acc = accuracy_score(y_test_tfidfw2vec, pred) * 100\n",
    "print('\\nThe accuracy of the knn classifier for k = %d is %f percent' % (optimal_k, acc))"
   ]
  },
  {
   "cell_type": "markdown",
   "metadata": {},
   "source": [
    "##### Observations:\n",
    "* KNN using TF-IDF weighted Word2Vec Feature Extraction has accuracy of 85.46% with hyper parameter or optimal k = 19.\n",
    "* Brute Force method took more time than the KD Tree approach while predicting the test data points."
   ]
  },
  {
   "cell_type": "markdown",
   "metadata": {},
   "source": [
    "#### Conclusion:\n",
    "    1) Using Bag of Words , It has error rate of 14.17% with k = 17\n",
    "    2) Using TF-IDF (term frequency–inverse document frequency), It has error rate of 13.61% with k = 11\n",
    "    3) Using Average w2vec, It has error rate of 14.63% with k = 21.\n",
    "    4) Using TF-IDF weighted Word2Vec Feature Extraction, It has error rate of 14.54% with k = 19"
   ]
  },
  {
   "cell_type": "code",
   "execution_count": null,
   "metadata": {},
   "outputs": [],
   "source": []
  }
 ],
 "metadata": {
  "kernelspec": {
   "display_name": "Python 3",
   "language": "python",
   "name": "python3"
  },
  "language_info": {
   "codemirror_mode": {
    "name": "ipython",
    "version": 3
   },
   "file_extension": ".py",
   "mimetype": "text/x-python",
   "name": "python",
   "nbconvert_exporter": "python",
   "pygments_lexer": "ipython3",
   "version": "3.6.4"
  }
 },
 "nbformat": 4,
 "nbformat_minor": 2
}
